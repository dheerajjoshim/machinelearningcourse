{
  "nbformat": 4,
  "nbformat_minor": 0,
  "metadata": {
    "colab": {
      "name": "BERT_QA_Bot (1).ipynb",
      "provenance": [],
      "collapsed_sections": [],
      "include_colab_link": true
    },
    "kernelspec": {
      "name": "python3",
      "display_name": "Python 3"
    }
  },
  "cells": [
    {
      "cell_type": "markdown",
      "metadata": {
        "id": "view-in-github",
        "colab_type": "text"
      },
      "source": [
        "<a href=\"https://colab.research.google.com/github/dheerajjoshim/machinelearningcourse/blob/master/BERT_QA_Bot_(1).ipynb\" target=\"_parent\"><img src=\"https://colab.research.google.com/assets/colab-badge.svg\" alt=\"Open In Colab\"/></a>"
      ]
    },
    {
      "cell_type": "code",
      "metadata": {
        "id": "qQDBVXypRxv1",
        "colab_type": "code",
        "colab": {}
      },
      "source": [
        "!pip install transformers"
      ],
      "execution_count": null,
      "outputs": []
    },
    {
      "cell_type": "code",
      "metadata": {
        "id": "d6Q7Wc4XR4_Z",
        "colab_type": "code",
        "colab": {}
      },
      "source": [
        "import torch\n",
        "from transformers import BertForQuestionAnswering\n",
        "from transformers import BertTokenizer\n",
        "\n",
        "#Model\n",
        "model = BertForQuestionAnswering.from_pretrained('bert-large-uncased-whole-word-masking-finetuned-squad')\n",
        "\n",
        "#Tokenizer\n",
        "tokenizer = BertTokenizer.from_pretrained('bert-large-uncased-whole-word-masking-finetuned-squad')"
      ],
      "execution_count": null,
      "outputs": []
    },
    {
      "cell_type": "code",
      "metadata": {
        "id": "V9gksVHPSDef",
        "colab_type": "code",
        "colab": {}
      },
      "source": [
        "#Example question and paragraph related to it\n",
        "question = '''Who owns Chelsea?\"'''\n",
        "\n",
        "paragraph = '''Chelsea Football Club are an English professional football club based in Fulham, London. Founded in 1905, the club competes in the Premier League, the top division of English football. Chelsea are among England most successful clubs, having won over thirty competitive honours, including six league titles and six European trophies. Their home ground is Stamford Bridge. Chelsea won their first major honour, the League Championship, in 1955. The club won the FA Cup for the first time in 1970 and their first European honour, the UEFA Cup Winners Cup, in 1971. After a period of decline in the late 1970s and 1980s, the club enjoyed a revival in the 1990s and had more success in cup competitions. The past two decades have been the most successful in Chelsea history: they won five of its six league titles and the UEFA Champions League during this period. Chelsea are one of five clubs to have won all three of UEFA's main club competitions, and the only London club to have won the Champions League. Chelsea home kit colours are royal blue shirts and shorts with white socks. The club crest features a ceremonial lion rampant regardant holding a staff. The club has rivalries with neighbouring teams Arsenal and Tottenham Hotspur, and a historic rivalry with Leeds United. Based on attendance figures, the club has the sixth-largest fanbase in England. In terms of club value, Chelsea are the sixth most valuable football club in the world, worth £2.13 billion, and are the eighth highest-earning football club in the world. Since 2003, Chelsea have been owned by Russian billionaire Roman Abramovich.'''\n",
        "            \n",
        "encoding = tokenizer.encode_plus(text=question,text_pair=paragraph)\n",
        "\n",
        "inputs = encoding['input_ids']  #Token embeddings\n",
        "sentence_embedding = encoding['token_type_ids']  #Segment embeddings\n",
        "tokens = tokenizer.convert_ids_to_tokens(inputs) #input tokens"
      ],
      "execution_count": null,
      "outputs": []
    },
    {
      "cell_type": "code",
      "metadata": {
        "id": "qhdwHgKlTZ5q",
        "colab_type": "code",
        "colab": {}
      },
      "source": [
        "#predict answer from model\n",
        "start_scores, end_scores = model(input_ids=torch.tensor([inputs]), token_type_ids=torch.tensor([sentence_embedding]))"
      ],
      "execution_count": null,
      "outputs": []
    },
    {
      "cell_type": "code",
      "metadata": {
        "id": "VggUjP2QTf8o",
        "colab_type": "code",
        "colab": {}
      },
      "source": [
        "start_index = torch.argmax(start_scores)\n",
        "\n",
        "end_index = torch.argmax(end_scores)\n",
        "\n",
        "answer = ' '.join(tokens[start_index:end_index+1])"
      ],
      "execution_count": null,
      "outputs": []
    },
    {
      "cell_type": "code",
      "metadata": {
        "id": "5JBIDnOBTjl0",
        "colab_type": "code",
        "colab": {}
      },
      "source": [
        "answer"
      ],
      "execution_count": null,
      "outputs": []
    },
    {
      "cell_type": "code",
      "metadata": {
        "id": "TKz3HBp4TpsX",
        "colab_type": "code",
        "colab": {}
      },
      "source": [
        "# in cases where certain words are filled with special characters do to BERT's internal encoding, this is just removing those characters\n",
        "corrected_answer = ''\n",
        "\n",
        "for word in answer.split():\n",
        "    \n",
        "    #If it's a subword token\n",
        "    if word[0:2] == '##':\n",
        "        corrected_answer += word[2:]\n",
        "    else:\n",
        "        corrected_answer += ' ' + word"
      ],
      "execution_count": null,
      "outputs": []
    },
    {
      "cell_type": "code",
      "metadata": {
        "id": "-iTljwMHTrkd",
        "colab_type": "code",
        "colab": {}
      },
      "source": [
        "corrected_answer"
      ],
      "execution_count": null,
      "outputs": []
    }
  ]
}