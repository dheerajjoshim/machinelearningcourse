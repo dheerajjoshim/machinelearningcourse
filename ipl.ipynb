{
  "nbformat": 4,
  "nbformat_minor": 0,
  "metadata": {
    "colab": {
      "name": "ipl.ipynb",
      "provenance": [],
      "collapsed_sections": [],
      "include_colab_link": true
    },
    "kernelspec": {
      "display_name": "Python 3",
      "language": "python",
      "name": "python3"
    },
    "language_info": {
      "codemirror_mode": {
        "name": "ipython",
        "version": 3
      },
      "file_extension": ".py",
      "mimetype": "text/x-python",
      "name": "python",
      "nbconvert_exporter": "python",
      "pygments_lexer": "ipython3",
      "version": "3.8.3"
    }
  },
  "cells": [
    {
      "cell_type": "markdown",
      "metadata": {
        "id": "view-in-github",
        "colab_type": "text"
      },
      "source": [
        "<a href=\"https://colab.research.google.com/github/dheerajjoshim/machinelearningcourse/blob/master/ipl.ipynb\" target=\"_parent\"><img src=\"https://colab.research.google.com/assets/colab-badge.svg\" alt=\"Open In Colab\"/></a>"
      ]
    },
    {
      "cell_type": "code",
      "metadata": {
        "colab_type": "code",
        "id": "iJG_bZnp-I5n",
        "colab": {}
      },
      "source": [
        "#To fit a model to find the Orange cap holder that is top run getter"
      ],
      "execution_count": null,
      "outputs": []
    },
    {
      "cell_type": "code",
      "metadata": {
        "colab_type": "code",
        "id": "a3wO99cessaL",
        "colab": {
          "base_uri": "https://localhost:8080/",
          "height": 71
        },
        "outputId": "16876993-20d0-466f-e2ce-e69042f72e68"
      },
      "source": [
        "#The data concerns city-cycle fuel consumption in miles per gallon,\n",
        "    #to be predicted in terms of 3 multiva#lued discrete and 5 continuous attributes.\n",
        "import numpy as np #python library for numerical functions\n",
        "import pandas as pd #for making dataframes\n",
        "import scipy.stats as stats #library for statistics functions like probability etc\n",
        "import statsmodels.api as sm #python library for stats models\n",
        "import matplotlib.pyplot as plt # to plot charts\n",
        "import sklearn  #python library for linear models & others\n",
        "from sklearn.linear_model import LinearRegression "
      ],
      "execution_count": null,
      "outputs": [
        {
          "output_type": "stream",
          "text": [
            "/usr/local/lib/python3.6/dist-packages/statsmodels/tools/_testing.py:19: FutureWarning: pandas.util.testing is deprecated. Use the functions in the public API at pandas.testing instead.\n",
            "  import pandas.util.testing as tm\n"
          ],
          "name": "stderr"
        }
      ]
    },
    {
      "cell_type": "code",
      "metadata": {
        "colab_type": "code",
        "id": "q-ytxPhLssaR",
        "colab": {
          "resources": {
            "http://localhost:8080/nbextensions/google.colab/files.js": {
              "data": "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",
              "headers": [
                [
                  "content-type",
                  "application/javascript"
                ]
              ],
              "ok": true,
              "status": 200,
              "status_text": ""
            }
          },
          "base_uri": "https://localhost:8080/",
          "height": 72
        },
        "outputId": "4a604c6e-658c-45ca-b19b-81f448c3811b"
      },
      "source": [
        "from google.colab import files #loading data from google colab\n",
        "uploaded = files.upload()"
      ],
      "execution_count": null,
      "outputs": [
        {
          "output_type": "display_data",
          "data": {
            "text/html": [
              "\n",
              "     <input type=\"file\" id=\"files-b812b551-1460-454f-abb6-21716fd7d2e5\" name=\"files[]\" multiple disabled\n",
              "        style=\"border:none\" />\n",
              "     <output id=\"result-b812b551-1460-454f-abb6-21716fd7d2e5\">\n",
              "      Upload widget is only available when the cell has been executed in the\n",
              "      current browser session. Please rerun this cell to enable.\n",
              "      </output>\n",
              "      <script src=\"/nbextensions/google.colab/files.js\"></script> "
            ],
            "text/plain": [
              "<IPython.core.display.HTML object>"
            ]
          },
          "metadata": {
            "tags": []
          }
        },
        {
          "output_type": "stream",
          "text": [
            "Saving IPL_TopRunGetters_v01.csv to IPL_TopRunGetters_v01.csv\n"
          ],
          "name": "stdout"
        }
      ]
    },
    {
      "cell_type": "code",
      "metadata": {
        "colab_type": "code",
        "id": "RsxBb_nn-Zjv",
        "colab": {
          "base_uri": "https://localhost:8080/",
          "height": 204
        },
        "outputId": "27502e91-b637-49cc-f15b-a3c38321568d"
      },
      "source": [
        "import io\n",
        "data = pd.read_csv(io.BytesIO(uploaded['IPL_TopRunGetters_v01.csv']))\n",
        "data.head(5) #Read first 5 entries"
      ],
      "execution_count": null,
      "outputs": [
        {
          "output_type": "execute_result",
          "data": {
            "text/html": [
              "<div>\n",
              "<style scoped>\n",
              "    .dataframe tbody tr th:only-of-type {\n",
              "        vertical-align: middle;\n",
              "    }\n",
              "\n",
              "    .dataframe tbody tr th {\n",
              "        vertical-align: top;\n",
              "    }\n",
              "\n",
              "    .dataframe thead th {\n",
              "        text-align: right;\n",
              "    }\n",
              "</style>\n",
              "<table border=\"1\" class=\"dataframe\">\n",
              "  <thead>\n",
              "    <tr style=\"text-align: right;\">\n",
              "      <th></th>\n",
              "      <th>Name</th>\n",
              "      <th>Mat</th>\n",
              "      <th>Inns</th>\n",
              "      <th>NO</th>\n",
              "      <th>Runs</th>\n",
              "      <th>HS</th>\n",
              "      <th>Avg</th>\n",
              "      <th>BF</th>\n",
              "      <th>SR</th>\n",
              "      <th>100</th>\n",
              "      <th>50</th>\n",
              "      <th>4s</th>\n",
              "      <th>6s</th>\n",
              "      <th>Year</th>\n",
              "    </tr>\n",
              "  </thead>\n",
              "  <tbody>\n",
              "    <tr>\n",
              "      <th>0</th>\n",
              "      <td>David Warner</td>\n",
              "      <td>12</td>\n",
              "      <td>12</td>\n",
              "      <td>2</td>\n",
              "      <td>692</td>\n",
              "      <td>100</td>\n",
              "      <td>69.2</td>\n",
              "      <td>481</td>\n",
              "      <td>143.86</td>\n",
              "      <td>1</td>\n",
              "      <td>8</td>\n",
              "      <td>57</td>\n",
              "      <td>21</td>\n",
              "      <td>2019</td>\n",
              "    </tr>\n",
              "    <tr>\n",
              "      <th>1</th>\n",
              "      <td>KL Rahul</td>\n",
              "      <td>14</td>\n",
              "      <td>14</td>\n",
              "      <td>3</td>\n",
              "      <td>593</td>\n",
              "      <td>100</td>\n",
              "      <td>53.9</td>\n",
              "      <td>438</td>\n",
              "      <td>135.38</td>\n",
              "      <td>1</td>\n",
              "      <td>6</td>\n",
              "      <td>49</td>\n",
              "      <td>25</td>\n",
              "      <td>2019</td>\n",
              "    </tr>\n",
              "    <tr>\n",
              "      <th>2</th>\n",
              "      <td>Quinton de Kock</td>\n",
              "      <td>16</td>\n",
              "      <td>16</td>\n",
              "      <td>1</td>\n",
              "      <td>529</td>\n",
              "      <td>81</td>\n",
              "      <td>35.26</td>\n",
              "      <td>398</td>\n",
              "      <td>132.91</td>\n",
              "      <td>0</td>\n",
              "      <td>4</td>\n",
              "      <td>45</td>\n",
              "      <td>25</td>\n",
              "      <td>2019</td>\n",
              "    </tr>\n",
              "    <tr>\n",
              "      <th>3</th>\n",
              "      <td>Shikhar Dhawan</td>\n",
              "      <td>16</td>\n",
              "      <td>16</td>\n",
              "      <td>1</td>\n",
              "      <td>521</td>\n",
              "      <td>97*</td>\n",
              "      <td>34.73</td>\n",
              "      <td>384</td>\n",
              "      <td>135.67</td>\n",
              "      <td>0</td>\n",
              "      <td>5</td>\n",
              "      <td>64</td>\n",
              "      <td>11</td>\n",
              "      <td>2019</td>\n",
              "    </tr>\n",
              "    <tr>\n",
              "      <th>4</th>\n",
              "      <td>Andre Russell</td>\n",
              "      <td>14</td>\n",
              "      <td>13</td>\n",
              "      <td>4</td>\n",
              "      <td>510</td>\n",
              "      <td>80*</td>\n",
              "      <td>56.66</td>\n",
              "      <td>249</td>\n",
              "      <td>204.81</td>\n",
              "      <td>0</td>\n",
              "      <td>4</td>\n",
              "      <td>31</td>\n",
              "      <td>52</td>\n",
              "      <td>2019</td>\n",
              "    </tr>\n",
              "  </tbody>\n",
              "</table>\n",
              "</div>"
            ],
            "text/plain": [
              "               Name  Mat  Inns  NO  Runs   HS  ...      SR  100  50  4s  6s  Year\n",
              "0      David Warner   12    12   2   692  100  ...  143.86    1   8  57  21  2019\n",
              "1          KL Rahul   14    14   3   593  100  ...  135.38    1   6  49  25  2019\n",
              "2   Quinton de Kock   16    16   1   529   81  ...  132.91    0   4  45  25  2019\n",
              "3    Shikhar Dhawan   16    16   1   521  97*  ...  135.67    0   5  64  11  2019\n",
              "4     Andre Russell   14    13   4   510  80*  ...  204.81    0   4  31  52  2019\n",
              "\n",
              "[5 rows x 14 columns]"
            ]
          },
          "metadata": {
            "tags": []
          },
          "execution_count": 7
        }
      ]
    },
    {
      "cell_type": "code",
      "metadata": {
        "colab_type": "code",
        "id": "PQFdKlzy_lRW",
        "colab": {
          "base_uri": "https://localhost:8080/",
          "height": 390
        },
        "outputId": "b8357d23-341d-42ce-ed7b-f72eba9aa931"
      },
      "source": [
        "data.corr()"
      ],
      "execution_count": null,
      "outputs": [
        {
          "output_type": "execute_result",
          "data": {
            "text/html": [
              "<div>\n",
              "<style scoped>\n",
              "    .dataframe tbody tr th:only-of-type {\n",
              "        vertical-align: middle;\n",
              "    }\n",
              "\n",
              "    .dataframe tbody tr th {\n",
              "        vertical-align: top;\n",
              "    }\n",
              "\n",
              "    .dataframe thead th {\n",
              "        text-align: right;\n",
              "    }\n",
              "</style>\n",
              "<table border=\"1\" class=\"dataframe\">\n",
              "  <thead>\n",
              "    <tr style=\"text-align: right;\">\n",
              "      <th></th>\n",
              "      <th>Mat</th>\n",
              "      <th>Inns</th>\n",
              "      <th>NO</th>\n",
              "      <th>Runs</th>\n",
              "      <th>BF</th>\n",
              "      <th>SR</th>\n",
              "      <th>100</th>\n",
              "      <th>50</th>\n",
              "      <th>4s</th>\n",
              "      <th>6s</th>\n",
              "      <th>Year</th>\n",
              "    </tr>\n",
              "  </thead>\n",
              "  <tbody>\n",
              "    <tr>\n",
              "      <th>Mat</th>\n",
              "      <td>1.000000</td>\n",
              "      <td>0.841051</td>\n",
              "      <td>0.446370</td>\n",
              "      <td>0.630402</td>\n",
              "      <td>0.638734</td>\n",
              "      <td>0.208669</td>\n",
              "      <td>0.131653</td>\n",
              "      <td>0.455328</td>\n",
              "      <td>0.580578</td>\n",
              "      <td>0.532606</td>\n",
              "      <td>0.014458</td>\n",
              "    </tr>\n",
              "    <tr>\n",
              "      <th>Inns</th>\n",
              "      <td>0.841051</td>\n",
              "      <td>1.000000</td>\n",
              "      <td>0.349692</td>\n",
              "      <td>0.853320</td>\n",
              "      <td>0.863783</td>\n",
              "      <td>0.207612</td>\n",
              "      <td>0.204841</td>\n",
              "      <td>0.640737</td>\n",
              "      <td>0.801781</td>\n",
              "      <td>0.716367</td>\n",
              "      <td>0.001779</td>\n",
              "    </tr>\n",
              "    <tr>\n",
              "      <th>NO</th>\n",
              "      <td>0.446370</td>\n",
              "      <td>0.349692</td>\n",
              "      <td>1.000000</td>\n",
              "      <td>0.155465</td>\n",
              "      <td>0.144238</td>\n",
              "      <td>0.114879</td>\n",
              "      <td>-0.008690</td>\n",
              "      <td>0.054119</td>\n",
              "      <td>0.036687</td>\n",
              "      <td>0.174451</td>\n",
              "      <td>0.044038</td>\n",
              "    </tr>\n",
              "    <tr>\n",
              "      <th>Runs</th>\n",
              "      <td>0.630402</td>\n",
              "      <td>0.853320</td>\n",
              "      <td>0.155465</td>\n",
              "      <td>1.000000</td>\n",
              "      <td>0.984046</td>\n",
              "      <td>0.292608</td>\n",
              "      <td>0.388248</td>\n",
              "      <td>0.877540</td>\n",
              "      <td>0.953834</td>\n",
              "      <td>0.852336</td>\n",
              "      <td>0.018041</td>\n",
              "    </tr>\n",
              "    <tr>\n",
              "      <th>BF</th>\n",
              "      <td>0.638734</td>\n",
              "      <td>0.863783</td>\n",
              "      <td>0.144238</td>\n",
              "      <td>0.984046</td>\n",
              "      <td>1.000000</td>\n",
              "      <td>0.196825</td>\n",
              "      <td>0.357680</td>\n",
              "      <td>0.860186</td>\n",
              "      <td>0.947838</td>\n",
              "      <td>0.776239</td>\n",
              "      <td>0.019241</td>\n",
              "    </tr>\n",
              "    <tr>\n",
              "      <th>SR</th>\n",
              "      <td>0.208669</td>\n",
              "      <td>0.207612</td>\n",
              "      <td>0.114879</td>\n",
              "      <td>0.292608</td>\n",
              "      <td>0.196825</td>\n",
              "      <td>1.000000</td>\n",
              "      <td>0.110848</td>\n",
              "      <td>0.229909</td>\n",
              "      <td>0.256654</td>\n",
              "      <td>0.413896</td>\n",
              "      <td>-0.001987</td>\n",
              "    </tr>\n",
              "    <tr>\n",
              "      <th>100</th>\n",
              "      <td>0.131653</td>\n",
              "      <td>0.204841</td>\n",
              "      <td>-0.008690</td>\n",
              "      <td>0.388248</td>\n",
              "      <td>0.357680</td>\n",
              "      <td>0.110848</td>\n",
              "      <td>1.000000</td>\n",
              "      <td>0.256641</td>\n",
              "      <td>0.357840</td>\n",
              "      <td>0.366546</td>\n",
              "      <td>0.016160</td>\n",
              "    </tr>\n",
              "    <tr>\n",
              "      <th>50</th>\n",
              "      <td>0.455328</td>\n",
              "      <td>0.640737</td>\n",
              "      <td>0.054119</td>\n",
              "      <td>0.877540</td>\n",
              "      <td>0.860186</td>\n",
              "      <td>0.229909</td>\n",
              "      <td>0.256641</td>\n",
              "      <td>1.000000</td>\n",
              "      <td>0.847072</td>\n",
              "      <td>0.731740</td>\n",
              "      <td>0.030231</td>\n",
              "    </tr>\n",
              "    <tr>\n",
              "      <th>4s</th>\n",
              "      <td>0.580578</td>\n",
              "      <td>0.801781</td>\n",
              "      <td>0.036687</td>\n",
              "      <td>0.953834</td>\n",
              "      <td>0.947838</td>\n",
              "      <td>0.256654</td>\n",
              "      <td>0.357840</td>\n",
              "      <td>0.847072</td>\n",
              "      <td>1.000000</td>\n",
              "      <td>0.718274</td>\n",
              "      <td>0.011106</td>\n",
              "    </tr>\n",
              "    <tr>\n",
              "      <th>6s</th>\n",
              "      <td>0.532606</td>\n",
              "      <td>0.716367</td>\n",
              "      <td>0.174451</td>\n",
              "      <td>0.852336</td>\n",
              "      <td>0.776239</td>\n",
              "      <td>0.413896</td>\n",
              "      <td>0.366546</td>\n",
              "      <td>0.731740</td>\n",
              "      <td>0.718274</td>\n",
              "      <td>1.000000</td>\n",
              "      <td>0.039462</td>\n",
              "    </tr>\n",
              "    <tr>\n",
              "      <th>Year</th>\n",
              "      <td>0.014458</td>\n",
              "      <td>0.001779</td>\n",
              "      <td>0.044038</td>\n",
              "      <td>0.018041</td>\n",
              "      <td>0.019241</td>\n",
              "      <td>-0.001987</td>\n",
              "      <td>0.016160</td>\n",
              "      <td>0.030231</td>\n",
              "      <td>0.011106</td>\n",
              "      <td>0.039462</td>\n",
              "      <td>1.000000</td>\n",
              "    </tr>\n",
              "  </tbody>\n",
              "</table>\n",
              "</div>"
            ],
            "text/plain": [
              "           Mat      Inns        NO  ...        4s        6s      Year\n",
              "Mat   1.000000  0.841051  0.446370  ...  0.580578  0.532606  0.014458\n",
              "Inns  0.841051  1.000000  0.349692  ...  0.801781  0.716367  0.001779\n",
              "NO    0.446370  0.349692  1.000000  ...  0.036687  0.174451  0.044038\n",
              "Runs  0.630402  0.853320  0.155465  ...  0.953834  0.852336  0.018041\n",
              "BF    0.638734  0.863783  0.144238  ...  0.947838  0.776239  0.019241\n",
              "SR    0.208669  0.207612  0.114879  ...  0.256654  0.413896 -0.001987\n",
              "100   0.131653  0.204841 -0.008690  ...  0.357840  0.366546  0.016160\n",
              "50    0.455328  0.640737  0.054119  ...  0.847072  0.731740  0.030231\n",
              "4s    0.580578  0.801781  0.036687  ...  1.000000  0.718274  0.011106\n",
              "6s    0.532606  0.716367  0.174451  ...  0.718274  1.000000  0.039462\n",
              "Year  0.014458  0.001779  0.044038  ...  0.011106  0.039462  1.000000\n",
              "\n",
              "[11 rows x 11 columns]"
            ]
          },
          "metadata": {
            "tags": []
          },
          "execution_count": 9
        }
      ]
    },
    {
      "cell_type": "code",
      "metadata": {
        "colab_type": "code",
        "id": "mw9l5r4TDJgh",
        "colab": {}
      },
      "source": [
        ""
      ],
      "execution_count": null,
      "outputs": []
    },
    {
      "cell_type": "code",
      "metadata": {
        "colab_type": "code",
        "id": "4p_AHHzWssa0",
        "colab": {
          "base_uri": "https://localhost:8080/",
          "height": 742
        },
        "outputId": "0aa26b4e-695d-4b95-c812-b0bc4f6903cf"
      },
      "source": [
        "#i = np.corrcoef(data['Runs'],data['BF'])\n",
        "#print (i) \n",
        "\n",
        "\n",
        "corrmat = data.corr() \n",
        "print(corrmat)\n",
        "import seaborn as sns \n",
        "f, ax = plt.subplots(figsize =(9, 8)) \n",
        "sns.heatmap(corrmat, ax = ax, cmap =\"YlGnBu\", linewidths = 0.1)\n",
        "\n",
        "#The problem we see from visualization of this issue is multicollinearity\n",
        "\n"
      ],
      "execution_count": null,
      "outputs": [
        {
          "output_type": "stream",
          "text": [
            "           Mat      Inns        NO  ...        4s        6s      Year\n",
            "Mat   1.000000  0.841051  0.446370  ...  0.580578  0.532606  0.014458\n",
            "Inns  0.841051  1.000000  0.349692  ...  0.801781  0.716367  0.001779\n",
            "NO    0.446370  0.349692  1.000000  ...  0.036687  0.174451  0.044038\n",
            "Runs  0.630402  0.853320  0.155465  ...  0.953834  0.852336  0.018041\n",
            "BF    0.638734  0.863783  0.144238  ...  0.947838  0.776239  0.019241\n",
            "SR    0.208669  0.207612  0.114879  ...  0.256654  0.413896 -0.001987\n",
            "100   0.131653  0.204841 -0.008690  ...  0.357840  0.366546  0.016160\n",
            "50    0.455328  0.640737  0.054119  ...  0.847072  0.731740  0.030231\n",
            "4s    0.580578  0.801781  0.036687  ...  1.000000  0.718274  0.011106\n",
            "6s    0.532606  0.716367  0.174451  ...  0.718274  1.000000  0.039462\n",
            "Year  0.014458  0.001779  0.044038  ...  0.011106  0.039462  1.000000\n",
            "\n",
            "[11 rows x 11 columns]\n"
          ],
          "name": "stdout"
        },
        {
          "output_type": "execute_result",
          "data": {
            "text/plain": [
              "<matplotlib.axes._subplots.AxesSubplot at 0x7fec030aa710>"
            ]
          },
          "metadata": {
            "tags": []
          },
          "execution_count": 27
        },
        {
          "output_type": "display_data",
          "data": {
            "image/png": "[encoded data removed]",
            "text/plain": [
              "<Figure size 648x576 with 2 Axes>"
            ]
          },
          "metadata": {
            "tags": [],
            "needs_background": "light"
          }
        }
      ]
    },
    {
      "cell_type": "code",
      "metadata": {
        "colab_type": "code",
        "id": "ti8Lfsrk_oas",
        "colab": {
          "base_uri": "https://localhost:8080/",
          "height": 300
        },
        "outputId": "548a8e99-057f-4fbe-d192-79fc7b076d05"
      },
      "source": [
        "#The linear relationship of BF & runs ensures that its one of deciding factor for top 3 orange cap holder\n",
        "plt.scatter(data['Runs'], data['BF'], color='red')\n",
        "plt.title('Runs Vs BF', fontsize=14)\n",
        "plt.xlabel('BF', fontsize=14)\n",
        "plt.ylabel('Runs',fontsize=14)\n",
        "plt.grid(True)\n",
        "plt.show()"
      ],
      "execution_count": null,
      "outputs": [
        {
          "output_type": "display_data",
          "data": {
            "image/png": "[encoded data removed]",
            "text/plain": [
              "<Figure size 432x288 with 1 Axes>"
            ]
          },
          "metadata": {
            "tags": [],
            "needs_background": "light"
          }
        }
      ]
    },
    {
      "cell_type": "code",
      "metadata": {
        "colab_type": "code",
        "id": "xZKZruCnEx7l",
        "colab": {}
      },
      "source": [
        ""
      ],
      "execution_count": null,
      "outputs": []
    },
    {
      "cell_type": "code",
      "metadata": {
        "colab_type": "code",
        "id": "t2LgpPXjEyaL",
        "colab": {
          "base_uri": "https://localhost:8080/",
          "height": 300
        },
        "outputId": "dbc56fda-7ced-46c9-96ec-89429d16f974"
      },
      "source": [
        "#The linear relationship of 6s & runs ensures that its one of deciding factor for top 3 orange cap holder\n",
        "plt.scatter(data['Runs'], data['6s'], color='red')\n",
        "plt.title('Runs Vs 6s', fontsize=14)\n",
        "plt.xlabel('6s', fontsize=14)\n",
        "plt.ylabel('Runs',fontsize=14)\n",
        "plt.grid(True)\n",
        "plt.show()"
      ],
      "execution_count": null,
      "outputs": [
        {
          "output_type": "display_data",
          "data": {
            "image/png": "[encoded data removed]",
            "text/plain": [
              "<Figure size 432x288 with 1 Axes>"
            ]
          },
          "metadata": {
            "tags": [],
            "needs_background": "light"
          }
        }
      ]
    },
    {
      "cell_type": "code",
      "metadata": {
        "colab_type": "code",
        "id": "s0U6lvvDE7io",
        "colab": {}
      },
      "source": [
        ""
      ],
      "execution_count": null,
      "outputs": []
    },
    {
      "cell_type": "code",
      "metadata": {
        "colab_type": "code",
        "id": "DrjwzEVeE8BC",
        "colab": {
          "base_uri": "https://localhost:8080/",
          "height": 300
        },
        "outputId": "4cee19c5-1d85-4533-c62d-b6546d9a5ebb"
      },
      "source": [
        "#The linear relationship of HS & runs ensures that its one of deciding factor for top 3 orange cap holder\n",
        "plt.scatter(data['Runs'], data['HS'], color='red')\n",
        "plt.title('Runs Vs HS', fontsize=14)\n",
        "plt.xlabel('HS', fontsize=14)\n",
        "plt.ylabel('Runs',fontsize=14)\n",
        "plt.grid(True)\n",
        "plt.show()"
      ],
      "execution_count": null,
      "outputs": [
        {
          "output_type": "display_data",
          "data": {
            "image/png": "[encoded data removed]",
            "text/plain": [
              "<Figure size 432x288 with 1 Axes>"
            ]
          },
          "metadata": {
            "tags": [],
            "needs_background": "light"
          }
        }
      ]
    },
    {
      "cell_type": "code",
      "metadata": {
        "colab_type": "code",
        "id": "EImjyYfQAPTI",
        "colab": {}
      },
      "source": [
        "df = pd.DataFrame(data,columns=['Mat','Inns',\t'NO',\t'Runs',\t'BF',\t'SR','100','50','4s','6s', 'Year','Name'])\n"
      ],
      "execution_count": null,
      "outputs": []
    },
    {
      "cell_type": "code",
      "metadata": {
        "colab_type": "code",
        "id": "-Ts3Poyl-a71",
        "colab": {
          "base_uri": "https://localhost:8080/",
          "height": 34
        },
        "outputId": "686ed784-6171-4877-b3cb-8105d3e6091b"
      },
      "source": [
        "X=data[['BF','6s']]\n",
        "Y=data['Runs']\n",
        "from sklearn import linear_model\n",
        "regr = linear_model.LinearRegression()\n",
        "regr.fit(X,Y)\n"
      ],
      "execution_count": null,
      "outputs": [
        {
          "output_type": "execute_result",
          "data": {
            "text/plain": [
              "LinearRegression(copy_X=True, fit_intercept=True, n_jobs=None, normalize=False)"
            ]
          },
          "metadata": {
            "tags": []
          },
          "execution_count": 51
        }
      ]
    },
    {
      "cell_type": "code",
      "metadata": {
        "colab_type": "code",
        "id": "68ZzZPaNBh_H",
        "colab": {}
      },
      "source": [
        ""
      ],
      "execution_count": null,
      "outputs": []
    },
    {
      "cell_type": "code",
      "metadata": {
        "colab_type": "code",
        "id": "996VOJz-_O12",
        "colab": {
          "base_uri": "https://localhost:8080/",
          "height": 34
        },
        "outputId": "24082404-446c-4166-bbe6-71ffc326727a"
      },
      "source": [
        "y_pred = regr.predict(X)\n",
        "regr.coef_\n"
      ],
      "execution_count": null,
      "outputs": [
        {
          "output_type": "execute_result",
          "data": {
            "text/plain": [
              "array([1.16089273, 4.40638021])"
            ]
          },
          "metadata": {
            "tags": []
          },
          "execution_count": 52
        }
      ]
    },
    {
      "cell_type": "code",
      "metadata": {
        "colab_type": "code",
        "id": "c_urNb6z_YgT",
        "colab": {
          "base_uri": "https://localhost:8080/",
          "height": 34
        },
        "outputId": "3d53d8b3-8992-4d88-dc8a-fcd63a9bc195"
      },
      "source": [
        "regr.intercept_\n",
        "#Runs=1.16089273 (BF) + 4.40638021(6s) -7.218862248573458\n",
        "#KaneWilliamson\t\t516\t28 --> 715 Runs\t\n",
        "#David Warner\t\t481\t21\t\n",
        "#Rishabh Pant\t\t394\t37\t\n",
        "#KL Rahul\t\t416\t32\t\n"
      ],
      "execution_count": null,
      "outputs": [
        {
          "output_type": "execute_result",
          "data": {
            "text/plain": [
              "-7.218862248573458"
            ]
          },
          "metadata": {
            "tags": []
          },
          "execution_count": 53
        }
      ]
    },
    {
      "cell_type": "code",
      "metadata": {
        "colab_type": "code",
        "id": "yw2VwqFp_bJH",
        "colab": {
          "base_uri": "https://localhost:8080/",
          "height": 459
        },
        "outputId": "c7f34f8a-fc0e-4277-fa27-bf2db889d39e"
      },
      "source": [
        "X = sm.add_constant(X) # adding a constant\n",
        " \n",
        "model = sm.OLS(Y, X).fit()\n",
        "predictions = model.predict(X) \n",
        " \n",
        "print(model.summary())\n"
      ],
      "execution_count": null,
      "outputs": [
        {
          "output_type": "stream",
          "text": [
            "                            OLS Regression Results                            \n",
            "==============================================================================\n",
            "Dep. Variable:                   Runs   R-squared:                       0.988\n",
            "Model:                            OLS   Adj. R-squared:                  0.988\n",
            "Method:                 Least Squares   F-statistic:                 1.227e+04\n",
            "Date:                Fri, 14 Aug 2020   Prob (F-statistic):          3.32e-286\n",
            "Time:                        00:57:30   Log-Likelihood:                -1298.7\n",
            "No. Observations:                 300   AIC:                             2603.\n",
            "Df Residuals:                     297   BIC:                             2615.\n",
            "Df Model:                           2                                         \n",
            "Covariance Type:            nonrobust                                         \n",
            "==============================================================================\n",
            "                 coef    std err          t      P>|t|      [0.025      0.975]\n",
            "------------------------------------------------------------------------------\n",
            "const         -7.2189      1.622     -4.452      0.000     -10.410      -4.027\n",
            "BF             1.1609      0.014     80.608      0.000       1.133       1.189\n",
            "6s             4.4064      0.199     22.121      0.000       4.014       4.798\n",
            "==============================================================================\n",
            "Omnibus:                       31.060   Durbin-Watson:                   1.910\n",
            "Prob(Omnibus):                  0.000   Jarque-Bera (JB):              121.620\n",
            "Skew:                          -0.290   Prob(JB):                     3.90e-27\n",
            "Kurtosis:                       6.065   Cond. No.                         272.\n",
            "==============================================================================\n",
            "\n",
            "Warnings:\n",
            "[1] Standard Errors assume that the covariance matrix of the errors is correctly specified.\n"
          ],
          "name": "stdout"
        }
      ]
    },
    {
      "cell_type": "code",
      "metadata": {
        "colab_type": "code",
        "id": "_UH7xRX3BjLu",
        "colab": {
          "base_uri": "https://localhost:8080/",
          "height": 359
        },
        "outputId": "70968bf6-4e0f-4569-c193-dea657c42ac9"
      },
      "source": [
        "#print('Predicted values: ', model.predict())\n",
        "df = pd.DataFrame({'Name' : data['Name'], 'Actual': Y, 'Predicted': model.predict()})\n",
        "df\n",
        "df.head(10)\n",
        "\n"
      ],
      "execution_count": null,
      "outputs": [
        {
          "output_type": "execute_result",
          "data": {
            "text/html": [
              "<div>\n",
              "<style scoped>\n",
              "    .dataframe tbody tr th:only-of-type {\n",
              "        vertical-align: middle;\n",
              "    }\n",
              "\n",
              "    .dataframe tbody tr th {\n",
              "        vertical-align: top;\n",
              "    }\n",
              "\n",
              "    .dataframe thead th {\n",
              "        text-align: right;\n",
              "    }\n",
              "</style>\n",
              "<table border=\"1\" class=\"dataframe\">\n",
              "  <thead>\n",
              "    <tr style=\"text-align: right;\">\n",
              "      <th></th>\n",
              "      <th>Name</th>\n",
              "      <th>Actual</th>\n",
              "      <th>Predicted</th>\n",
              "    </tr>\n",
              "  </thead>\n",
              "  <tbody>\n",
              "    <tr>\n",
              "      <th>0</th>\n",
              "      <td>David Warner</td>\n",
              "      <td>692</td>\n",
              "      <td>643.704525</td>\n",
              "    </tr>\n",
              "    <tr>\n",
              "      <th>1</th>\n",
              "      <td>KL Rahul</td>\n",
              "      <td>593</td>\n",
              "      <td>611.411658</td>\n",
              "    </tr>\n",
              "    <tr>\n",
              "      <th>2</th>\n",
              "      <td>Quinton de Kock</td>\n",
              "      <td>529</td>\n",
              "      <td>564.975949</td>\n",
              "    </tr>\n",
              "    <tr>\n",
              "      <th>3</th>\n",
              "      <td>Shikhar Dhawan</td>\n",
              "      <td>521</td>\n",
              "      <td>487.034128</td>\n",
              "    </tr>\n",
              "    <tr>\n",
              "      <th>4</th>\n",
              "      <td>Andre Russell</td>\n",
              "      <td>510</td>\n",
              "      <td>510.975198</td>\n",
              "    </tr>\n",
              "    <tr>\n",
              "      <th>5</th>\n",
              "      <td>Chris Gayle</td>\n",
              "      <td>490</td>\n",
              "      <td>512.922845</td>\n",
              "    </tr>\n",
              "    <tr>\n",
              "      <th>6</th>\n",
              "      <td>Rishabh Pant</td>\n",
              "      <td>488</td>\n",
              "      <td>460.021222</td>\n",
              "    </tr>\n",
              "    <tr>\n",
              "      <th>7</th>\n",
              "      <td>Virat Kohli</td>\n",
              "      <td>464</td>\n",
              "      <td>430.836896</td>\n",
              "    </tr>\n",
              "    <tr>\n",
              "      <th>8</th>\n",
              "      <td>Shreyas Iyer</td>\n",
              "      <td>463</td>\n",
              "      <td>502.575054</td>\n",
              "    </tr>\n",
              "    <tr>\n",
              "      <th>9</th>\n",
              "      <td>Jonny Bairstow</td>\n",
              "      <td>445</td>\n",
              "      <td>400.628624</td>\n",
              "    </tr>\n",
              "  </tbody>\n",
              "</table>\n",
              "</div>"
            ],
            "text/plain": [
              "               Name  Actual   Predicted\n",
              "0      David Warner     692  643.704525\n",
              "1          KL Rahul     593  611.411658\n",
              "2   Quinton de Kock     529  564.975949\n",
              "3    Shikhar Dhawan     521  487.034128\n",
              "4     Andre Russell     510  510.975198\n",
              "5       Chris Gayle     490  512.922845\n",
              "6      Rishabh Pant     488  460.021222\n",
              "7       Virat Kohli     464  430.836896\n",
              "8      Shreyas Iyer     463  502.575054\n",
              "9    Jonny Bairstow     445  400.628624"
            ]
          },
          "metadata": {
            "tags": []
          },
          "execution_count": 61
        }
      ]
    },
    {
      "cell_type": "code",
      "metadata": {
        "colab_type": "code",
        "id": "tbkNXZM_Bl30",
        "colab": {
          "base_uri": "https://localhost:8080/",
          "height": 300
        },
        "outputId": "38a98655-02eb-4ad3-e8f6-ce54df5720f5"
      },
      "source": [
        "plt.scatter(df['Runs'],model.predict(X), color='blue')\n",
        "#plt.scatter(df['mpg_target'],((45.82826481701349) + (-0.04431582)* df['horsepower'] + (-0.00595438)* df['weight']), color='green')\n",
        "plt.title('actual Vs predicted', fontsize=14)\n",
        "plt.xlabel('actual', fontsize=14)\n",
        "plt.ylabel('predicted',fontsize=14)\n",
        "plt.grid(True)\n",
        "plt.show()"
      ],
      "execution_count": null,
      "outputs": [
        {
          "output_type": "display_data",
          "data": {
            "image/png": "[encoded data removed]",
            "text/plain": [
              "<Figure size 432x288 with 1 Axes>"
            ]
          },
          "metadata": {
            "tags": [],
            "needs_background": "light"
          }
        }
      ]
    },
    {
      "cell_type": "code",
      "metadata": {
        "colab_type": "code",
        "id": "z72HQ1FZEvVI",
        "colab": {}
      },
      "source": [
        ""
      ],
      "execution_count": null,
      "outputs": []
    }
  ]
}