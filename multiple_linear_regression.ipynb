{
  "nbformat": 4,
  "nbformat_minor": 0,
  "metadata": {
    "colab": {
      "name": "multiple_linear_regression.ipynb",
      "provenance": [],
      "toc_visible": true,
      "include_colab_link": true
    },
    "kernelspec": {
      "name": "python3",
      "display_name": "Python 3"
    }
  },
  "cells": [
    {
      "cell_type": "markdown",
      "metadata": {
        "id": "view-in-github",
        "colab_type": "text"
      },
      "source": [
        "<a href=\"https://colab.research.google.com/github/dheerajjoshim/machinelearningcourse/blob/master/multiple_linear_regression.ipynb\" target=\"_parent\"><img src=\"https://colab.research.google.com/assets/colab-badge.svg\" alt=\"Open In Colab\"/></a>"
      ]
    },
    {
      "cell_type": "markdown",
      "metadata": {
        "id": "CazISR8X_HUG",
        "colab_type": "text"
      },
      "source": [
        "# Multiple Linear Regression"
      ]
    },
    {
      "cell_type": "markdown",
      "metadata": {
        "id": "pOyqYHTk_Q57",
        "colab_type": "text"
      },
      "source": [
        "## Importing the libraries"
      ]
    },
    {
      "cell_type": "code",
      "metadata": {
        "id": "3JKd9RruT-ck",
        "colab_type": "code",
        "colab": {}
      },
      "source": [
        "import numpy as np\n",
        "import matplotlib.pyplot as plt\n",
        "import pandas as pd"
      ],
      "execution_count": 5,
      "outputs": []
    },
    {
      "cell_type": "markdown",
      "metadata": {
        "id": "vgC61-ah_WIz",
        "colab_type": "text"
      },
      "source": [
        "## Importing the dataset"
      ]
    },
    {
      "cell_type": "code",
      "metadata": {
        "id": "fd1gDBoWT_NN",
        "colab_type": "code",
        "colab": {}
      },
      "source": [
        "dataset = pd.read_csv('50_Startups.csv')\n",
        "X = dataset.iloc[:, :-1].values\n",
        "y = dataset.iloc[:, -1].values"
      ],
      "execution_count": 7,
      "outputs": []
    },
    {
      "cell_type": "markdown",
      "metadata": {
        "id": "VadrvE7s_lS9",
        "colab_type": "text"
      },
      "source": [
        "## Encoding categorical data"
      ]
    },
    {
      "cell_type": "code",
      "metadata": {
        "id": "z-Lse0wcUCqO",
        "colab_type": "code",
        "colab": {}
      },
      "source": [
        "from sklearn.compose import ColumnTransformer\n",
        "from sklearn.preprocessing import OneHotEncoder\n",
        "ct = ColumnTransformer(transformers=[('encoder', OneHotEncoder(), [3])], remainder='passthrough')\n",
        "X = np.array(ct.fit_transform(X))"
      ],
      "execution_count": 8,
      "outputs": []
    },
    {
      "cell_type": "markdown",
      "metadata": {
        "id": "WemVnqgeA70k",
        "colab_type": "text"
      },
      "source": [
        "## Splitting the dataset into the Training set and Test set"
      ]
    },
    {
      "cell_type": "code",
      "metadata": {
        "id": "UoDyQUQIUMag",
        "colab_type": "code",
        "colab": {
          "base_uri": "https://localhost:8080/",
          "height": 799
        },
        "outputId": "e4adb511-d7ac-4094-cadd-4297b9fb9d40"
      },
      "source": [
        "from sklearn.model_selection import train_test_split\n",
        "X_train, X_test, y_train, y_test = train_test_split(X, y, test_size = 0.2, random_state = 0)\n",
        "\n",
        "print(X_train)\n",
        "print(y_train)"
      ],
      "execution_count": 9,
      "outputs": [
        {
          "output_type": "stream",
          "text": [
            "[[0.0 1.0 0.0 55493.95 103057.49 214634.81]\n",
            " [0.0 0.0 1.0 46014.02 85047.44 205517.64]\n",
            " [0.0 1.0 0.0 75328.87 144135.98 134050.07]\n",
            " [1.0 0.0 0.0 46426.07 157693.92 210797.67]\n",
            " [0.0 1.0 0.0 91749.16 114175.79 294919.57]\n",
            " [0.0 1.0 0.0 130298.13 145530.06 323876.68]\n",
            " [0.0 1.0 0.0 119943.24 156547.42 256512.92]\n",
            " [0.0 0.0 1.0 1000.23 124153.04 1903.93]\n",
            " [0.0 0.0 1.0 542.05 51743.15 0.0]\n",
            " [0.0 0.0 1.0 65605.48 153032.06 107138.38]\n",
            " [0.0 0.0 1.0 114523.61 122616.84 261776.23]\n",
            " [0.0 1.0 0.0 61994.48 115641.28 91131.24]\n",
            " [1.0 0.0 0.0 63408.86 129219.61 46085.25]\n",
            " [1.0 0.0 0.0 78013.11 121597.55 264346.06]\n",
            " [1.0 0.0 0.0 23640.93 96189.63 148001.11]\n",
            " [1.0 0.0 0.0 76253.86 113867.3 298664.47]\n",
            " [0.0 0.0 1.0 15505.73 127382.3 35534.17]\n",
            " [0.0 0.0 1.0 120542.52 148718.95 311613.29]\n",
            " [1.0 0.0 0.0 91992.39 135495.07 252664.93]\n",
            " [1.0 0.0 0.0 64664.71 139553.16 137962.62]\n",
            " [0.0 0.0 1.0 131876.9 99814.71 362861.36]\n",
            " [0.0 0.0 1.0 94657.16 145077.58 282574.31]\n",
            " [1.0 0.0 0.0 28754.33 118546.05 172795.67]\n",
            " [1.0 0.0 0.0 0.0 116983.8 45173.06]\n",
            " [1.0 0.0 0.0 162597.7 151377.59 443898.53]\n",
            " [0.0 1.0 0.0 93863.75 127320.38 249839.44]\n",
            " [1.0 0.0 0.0 44069.95 51283.14 197029.42]\n",
            " [0.0 0.0 1.0 77044.01 99281.34 140574.81]\n",
            " [1.0 0.0 0.0 134615.46 147198.87 127716.82]\n",
            " [0.0 1.0 0.0 67532.53 105751.03 304768.73]\n",
            " [0.0 1.0 0.0 28663.76 127056.21 201126.82]\n",
            " [0.0 0.0 1.0 78389.47 153773.43 299737.29]\n",
            " [0.0 0.0 1.0 86419.7 153514.11 0.0]\n",
            " [1.0 0.0 0.0 123334.88 108679.17 304981.62]\n",
            " [1.0 0.0 0.0 38558.51 82982.09 174999.3]\n",
            " [0.0 1.0 0.0 1315.46 115816.21 297114.46]\n",
            " [0.0 0.0 1.0 144372.41 118671.85 383199.62]\n",
            " [0.0 0.0 1.0 165349.2 136897.8 471784.1]\n",
            " [1.0 0.0 0.0 0.0 135426.92 0.0]\n",
            " [1.0 0.0 0.0 22177.74 154806.14 28334.72]]\n",
            "[ 96778.92  96479.51 105733.54  96712.8  124266.9  155752.6  132602.65\n",
            "  64926.08  35673.41 101004.64 129917.04  99937.59  97427.84 126992.93\n",
            "  71498.49 118474.03  69758.98 152211.77 134307.35 107404.34 156991.12\n",
            " 125370.37  78239.91  14681.4  191792.06 141585.52  89949.14 108552.04\n",
            " 156122.51 108733.99  90708.19 111313.02 122776.86 149759.96  81005.76\n",
            "  49490.75 182901.99 192261.83  42559.73  65200.33]\n"
          ],
          "name": "stdout"
        }
      ]
    },
    {
      "cell_type": "markdown",
      "metadata": {
        "id": "k-McZVsQBINc",
        "colab_type": "text"
      },
      "source": [
        "## Training the Multiple Linear Regression model on the Training set"
      ]
    },
    {
      "cell_type": "code",
      "metadata": {
        "id": "JoHaRqZEb8Lg",
        "colab_type": "code",
        "colab": {
          "base_uri": "https://localhost:8080/",
          "height": 119
        },
        "outputId": "07816859-73f7-44f8-c391-3d31ccabf2bb"
      },
      "source": [
        "from sklearn.linear_model import LinearRegression\n",
        "rg = LinearRegression()\n",
        "rg.fit(X_train, y_train)\n",
        "predict = rg.predict(X_test)\n",
        "\n",
        "print(rg.coef_)\n",
        "print(rg.intercept_)"
      ],
      "execution_count": 12,
      "outputs": [
        {
          "output_type": "stream",
          "text": [
            "[103015.20159795 132582.27760816 132447.73845175  71976.09851258\n",
            " 178537.48221057 116161.24230167  67851.69209676  98791.73374687\n",
            " 113969.43533014 167921.06569552]\n",
            "[ 8.66383692e+01 -8.72645791e+02  7.86007422e+02  7.73467193e-01\n",
            "  3.28845975e-02  3.66100259e-02]\n",
            "42467.52924853204\n"
          ],
          "name": "stdout"
        }
      ]
    },
    {
      "cell_type": "markdown",
      "metadata": {
        "id": "xNkXL1YQBiBT",
        "colab_type": "text"
      },
      "source": [
        "## Predicting the Test set results"
      ]
    },
    {
      "cell_type": "code",
      "metadata": {
        "id": "WAAnE2gtb832",
        "colab_type": "code",
        "colab": {
          "base_uri": "https://localhost:8080/",
          "height": 187
        },
        "outputId": "be5b79e0-8de2-48e7-f70b-dc698f0f04e6"
      },
      "source": [
        "np.set_printoptions(precision=2)\n",
        "print(np.concatenate((predict.reshape(len(predict), 1),y_test.reshape(len(y_test), 1)),axis=1))"
      ],
      "execution_count": 19,
      "outputs": [
        {
          "output_type": "stream",
          "text": [
            "[[103015.2  103282.38]\n",
            " [132582.28 144259.4 ]\n",
            " [132447.74 146121.95]\n",
            " [ 71976.1   77798.83]\n",
            " [178537.48 191050.39]\n",
            " [116161.24 105008.31]\n",
            " [ 67851.69  81229.06]\n",
            " [ 98791.73  97483.56]\n",
            " [113969.44 110352.25]\n",
            " [167921.07 166187.94]]\n"
          ],
          "name": "stdout"
        }
      ]
    }
  ]
}