{
 "cells": [
  {
   "cell_type": "markdown",
   "metadata": {},
   "source": [
    "### While loop example"
   ]
  },
  {
   "cell_type": "code",
   "execution_count": 1,
   "metadata": {},
   "outputs": [
    {
     "name": "stdout",
     "output_type": "stream",
     "text": [
      "Number:  0\n",
      "Number:  1\n",
      "Number:  2\n",
      "Number:  3\n",
      "Number:  4\n",
      "Number:  5\n",
      "Number:  6\n",
      "Number:  7\n",
      "Number:  8\n",
      "Good bye\n"
     ]
    }
   ],
   "source": [
    "count = 0     \n",
    "while count < 9:\n",
    "    print(\"Number: \", count)\n",
    "    count = count + 1\n",
    "         \n",
    "print(\"Good bye\")"
   ]
  },
  {
   "cell_type": "markdown",
   "metadata": {},
   "source": [
    "### For loop examples"
   ]
  },
  {
   "cell_type": "code",
   "execution_count": 2,
   "metadata": {},
   "outputs": [
    {
     "name": "stdout",
     "output_type": "stream",
     "text": [
      "Current fruit:  Mango\n",
      "Current fruit:  Orange\n",
      "Current fruit:  Apple\n",
      "Good bye\n"
     ]
    }
   ],
   "source": [
    "fruits = ['Mango','Orange','Apple']\n",
    "\n",
    "for fruit in fruits:\n",
    "    print(\"Current fruit: \", fruit)\n",
    "   \n",
    "print(\"Good bye\")"
   ]
  },
  {
   "cell_type": "code",
   "execution_count": 4,
   "metadata": {},
   "outputs": [
    {
     "name": "stdout",
     "output_type": "stream",
     "text": [
      "Example 1\n",
      "0\n",
      "1\n",
      "2\n",
      "3\n",
      "4\n",
      " \n",
      "Example 2\n",
      "0\n",
      "2\n",
      "4\n",
      "6\n",
      "8\n",
      "10\n",
      "12\n",
      "14\n",
      "16\n",
      "18\n",
      "20\n"
     ]
    }
   ],
   "source": [
    "print(\"Example 1\")\n",
    "for i in range(0,5):\n",
    "    print(i)\n",
    "\n",
    "print(\" \")\n",
    "print(\"Example 2\") \n",
    "for i in range(0,21,2):\n",
    "    print(i)"
   ]
  },
  {
   "cell_type": "markdown",
   "metadata": {},
   "source": [
    "### Exercise\n",
    "### # Write Factorial program and verify the output with factorial of 5"
   ]
  }
 ],
 "metadata": {
  "kernelspec": {
   "display_name": "Python 3",
   "language": "python",
   "name": "python3"
  },
  "language_info": {
   "codemirror_mode": {
    "name": "ipython",
    "version": 3
   },
   "file_extension": ".py",
   "mimetype": "text/x-python",
   "name": "python",
   "nbconvert_exporter": "python",
   "pygments_lexer": "ipython3",
   "version": "3.7.6"
  }
 },
 "nbformat": 4,
 "nbformat_minor": 2
}
