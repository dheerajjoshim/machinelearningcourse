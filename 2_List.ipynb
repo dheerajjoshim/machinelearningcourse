{
 "cells": [
  {
   "cell_type": "markdown",
   "metadata": {},
   "source": [
    "# List\n",
    "\n",
    "#### List is ordered collection of objects \n",
    "#### List can hold objects of different datatypes"
   ]
  },
  {
   "cell_type": "code",
   "execution_count": 1,
   "metadata": {},
   "outputs": [
    {
     "name": "stdout",
     "output_type": "stream",
     "text": [
      "['Nokia', 123, 'Python', 'ML']\n"
     ]
    }
   ],
   "source": [
    "my_list = ['Nokia',123,'Python', \"ML\"]\n",
    "print(my_list)"
   ]
  },
  {
   "cell_type": "markdown",
   "metadata": {},
   "source": [
    "### Accessing elements of a list:"
   ]
  },
  {
   "cell_type": "code",
   "execution_count": 2,
   "metadata": {},
   "outputs": [
    {
     "name": "stdout",
     "output_type": "stream",
     "text": [
      "Python\n"
     ]
    }
   ],
   "source": [
    "print(my_list[2])"
   ]
  },
  {
   "cell_type": "markdown",
   "metadata": {},
   "source": [
    "### Length of a list:\n",
    "### # len(list_name)"
   ]
  },
  {
   "cell_type": "code",
   "execution_count": 3,
   "metadata": {},
   "outputs": [
    {
     "name": "stdout",
     "output_type": "stream",
     "text": [
      "4\n"
     ]
    }
   ],
   "source": [
    "print(len(my_list))"
   ]
  },
  {
   "cell_type": "markdown",
   "metadata": {},
   "source": [
    "### Slicing a list:\n",
    "### # list_name[starting_range:ending_range]"
   ]
  },
  {
   "cell_type": "code",
   "execution_count": 4,
   "metadata": {},
   "outputs": [
    {
     "name": "stdout",
     "output_type": "stream",
     "text": [
      "['Nokia', 123, 'Python']\n"
     ]
    }
   ],
   "source": [
    "print(my_list[0:3])  # print the 0,1,2 elements but doesnot print the 3rd element"
   ]
  },
  {
   "cell_type": "markdown",
   "metadata": {},
   "source": [
    "### Appending a list:\n",
    "### # list_name.append(value)"
   ]
  },
  {
   "cell_type": "code",
   "execution_count": 8,
   "metadata": {},
   "outputs": [
    {
     "name": "stdout",
     "output_type": "stream",
     "text": [
      "[1, 'a', 2.5, 'd']\n"
     ]
    }
   ],
   "source": [
    "my_list=[1,'a',2.5]\n",
    "my_list.append('d')     # append takes only one argument i.e only an element can be appended at a time\n",
    "print(my_list)"
   ]
  },
  {
   "cell_type": "markdown",
   "metadata": {},
   "source": [
    "### extend:\n",
    "### # list_name1.extend(list_name2)    "
   ]
  },
  {
   "cell_type": "code",
   "execution_count": 9,
   "metadata": {},
   "outputs": [
    {
     "name": "stdout",
     "output_type": "stream",
     "text": [
      "[1, 'a', 2.5, 'c', 'd']\n",
      "[1, 'a', 2.5, 'c', 'd', 'e', 'f']\n"
     ]
    }
   ],
   "source": [
    "my_list=[1,'a',2.5]\n",
    "my_list.extend(['c','d'])\n",
    "print(my_list)\n",
    "list2 = ['e','f']\n",
    "my_list.extend(list2)\n",
    "print(my_list)"
   ]
  },
  {
   "cell_type": "markdown",
   "metadata": {},
   "source": [
    "### Update values in list:"
   ]
  },
  {
   "cell_type": "code",
   "execution_count": 10,
   "metadata": {},
   "outputs": [
    {
     "name": "stdout",
     "output_type": "stream",
     "text": [
      "[1, 'b', 2.5]\n"
     ]
    }
   ],
   "source": [
    "my_list=[1,'a',2.5]\n",
    "my_list[1]='b'\n",
    "print(my_list)  "
   ]
  },
  {
   "cell_type": "markdown",
   "metadata": {},
   "source": [
    "### Delete an element in a list\n",
    "### # del list_name[element_index]"
   ]
  },
  {
   "cell_type": "code",
   "execution_count": 11,
   "metadata": {},
   "outputs": [
    {
     "name": "stdout",
     "output_type": "stream",
     "text": [
      "['ML', 'Testing', 'Project Management', 'Cloud Ambassador']\n"
     ]
    }
   ],
   "source": [
    "nokiaEDPList=[\"ML\",\"Testing\",\"Program Management\",\"Project Management\",\"Cloud Ambassador\"]\n",
    "del nokiaEDPList[2]\n",
    "print(nokiaEDPList)"
   ]
  },
  {
   "cell_type": "markdown",
   "metadata": {},
   "source": [
    "### Inserting in an existing list:\n",
    "### # list_name.insert(index,value)"
   ]
  },
  {
   "cell_type": "code",
   "execution_count": 12,
   "metadata": {},
   "outputs": [
    {
     "name": "stdout",
     "output_type": "stream",
     "text": [
      "[1, 'a', 2.5]\n",
      "[1, 'a', 'b', 2.5]\n"
     ]
    }
   ],
   "source": [
    "my_list=[1,'a',2.5]\n",
    "print(my_list)\n",
    "my_list.insert(2,'b')  # in 2nd position insert the string 'b'\n",
    "print(my_list)"
   ]
  },
  {
   "cell_type": "markdown",
   "metadata": {},
   "source": [
    "### Pop:\n",
    "### # list_name.pop()"
   ]
  },
  {
   "cell_type": "code",
   "execution_count": 13,
   "metadata": {},
   "outputs": [
    {
     "name": "stdout",
     "output_type": "stream",
     "text": [
      "c\n",
      "['a', 'b']\n",
      " \n",
      "d\n",
      "['a', 'b', 'c', 'e']\n"
     ]
    }
   ],
   "source": [
    "my_list=['a','b','c']\n",
    "print(my_list.pop())\n",
    "print(my_list)\n",
    "print(\" \")\n",
    "\n",
    "my_list=['a','b','c','d','e']\n",
    "print(my_list.pop(3))\n",
    "print(my_list)"
   ]
  },
  {
   "cell_type": "markdown",
   "metadata": {},
   "source": [
    "### Indexing in List:\n",
    "### # list_name.index(elem)"
   ]
  },
  {
   "cell_type": "code",
   "execution_count": 14,
   "metadata": {},
   "outputs": [
    {
     "name": "stdout",
     "output_type": "stream",
     "text": [
      "The index of e: 1\n"
     ]
    }
   ],
   "source": [
    "vowels = ['a', 'e', 'i', 'o', 'u', 'e']\n",
    "index = vowels.index('e')          # element 'e' is searched\n",
    "print('The index of e:', index)    # index is printed, this will the first occurance of the index"
   ]
  },
  {
   "cell_type": "code",
   "execution_count": 15,
   "metadata": {},
   "outputs": [
    {
     "ename": "ValueError",
     "evalue": "'z' is not in list",
     "output_type": "error",
     "traceback": [
      "\u001b[1;31m---------------------------------------------------------------------------\u001b[0m",
      "\u001b[1;31mValueError\u001b[0m                                Traceback (most recent call last)",
      "\u001b[1;32m<ipython-input-15-f86855415696>\u001b[0m in \u001b[0;36m<module>\u001b[1;34m\u001b[0m\n\u001b[1;32m----> 1\u001b[1;33m \u001b[0mindex\u001b[0m \u001b[1;33m=\u001b[0m \u001b[0mvowels\u001b[0m\u001b[1;33m.\u001b[0m\u001b[0mindex\u001b[0m\u001b[1;33m(\u001b[0m\u001b[1;34m'z'\u001b[0m\u001b[1;33m)\u001b[0m          \u001b[1;31m# This will return an error as 'z' is not in the list\u001b[0m\u001b[1;33m\u001b[0m\u001b[1;33m\u001b[0m\u001b[0m\n\u001b[0m",
      "\u001b[1;31mValueError\u001b[0m: 'z' is not in list"
     ]
    }
   ],
   "source": [
    "index = vowels.index('z')          # This will return an error as 'z' is not in the list"
   ]
  },
  {
   "cell_type": "markdown",
   "metadata": {},
   "source": [
    "### in, not in:\n",
    "### # check the element is in the list or not"
   ]
  },
  {
   "cell_type": "code",
   "execution_count": 16,
   "metadata": {},
   "outputs": [
    {
     "name": "stdout",
     "output_type": "stream",
     "text": [
      "True\n",
      "False\n",
      "True\n"
     ]
    }
   ],
   "source": [
    "vowels = ['a', 'e', 'i', 'o', 'u', 'e']\n",
    "bool = 'a' in vowels\n",
    "print(bool)\n",
    "bool = 'z' in vowels\n",
    "print(bool)\n",
    "bool = 'z' not in vowels\n",
    "print(bool)"
   ]
  },
  {
   "cell_type": "markdown",
   "metadata": {},
   "source": [
    "### Remove an element from the list\n",
    "### # list_name.remove(elem_value)"
   ]
  },
  {
   "cell_type": "code",
   "execution_count": 17,
   "metadata": {},
   "outputs": [
    {
     "name": "stdout",
     "output_type": "stream",
     "text": [
      "['a', 'i', 'o', 'u', 'e']\n"
     ]
    }
   ],
   "source": [
    "vowels = ['a', 'e', 'i', 'o', 'u', 'e']\n",
    "vowels.remove('e')\n",
    "print(vowels)"
   ]
  },
  {
   "cell_type": "markdown",
   "metadata": {},
   "source": [
    "### Sort a list:\n",
    "### # list_name.sort()"
   ]
  },
  {
   "cell_type": "code",
   "execution_count": 18,
   "metadata": {},
   "outputs": [
    {
     "name": "stdout",
     "output_type": "stream",
     "text": [
      "[-1, 23, 24, 43, 54, 64]\n",
      "[64, 54, 43, 24, 23, -1]\n"
     ]
    }
   ],
   "source": [
    "numList = [23, 64, 54, -1, 43, 24]\n",
    "numList.sort()                # by default sort works in acending order\n",
    "print(numList)\n",
    "numList.sort(reverse = True)  # this way sort works in decending order\n",
    "print(numList)"
   ]
  },
  {
   "cell_type": "code",
   "execution_count": 19,
   "metadata": {},
   "outputs": [
    {
     "name": "stdout",
     "output_type": "stream",
     "text": [
      "['123', 'EDP', 'ML', 'Nokia']\n",
      "['Nokia', 'ML', 'EDP', '123']\n"
     ]
    }
   ],
   "source": [
    "stringList = [\"ML\", \"Nokia\", \"EDP\", \"123\"]\n",
    "stringList.sort()\n",
    "print(stringList)\n",
    "stringList.sort(reverse = True)  \n",
    "print(stringList)"
   ]
  },
  {
   "cell_type": "markdown",
   "metadata": {},
   "source": [
    "### Reverse a list:\n",
    "### # list_name.reverse()"
   ]
  },
  {
   "cell_type": "code",
   "execution_count": 20,
   "metadata": {},
   "outputs": [
    {
     "name": "stdout",
     "output_type": "stream",
     "text": [
      "[24, 43, -1, 54, 64, 23]\n",
      "['123', 'EDP', 'Nokia', 'ML']\n"
     ]
    }
   ],
   "source": [
    "numList=[23,64,54,-1,43,24]\n",
    "numList.reverse()\n",
    "print(numList)\n",
    "stringList = [\"ML\", \"Nokia\", \"EDP\", \"123\"]\n",
    "stringList.reverse()\n",
    "print(stringList)"
   ]
  },
  {
   "cell_type": "markdown",
   "metadata": {},
   "source": [
    "### Max element in a list:\n",
    "### # max(list_name)"
   ]
  },
  {
   "cell_type": "code",
   "execution_count": 21,
   "metadata": {},
   "outputs": [
    {
     "name": "stdout",
     "output_type": "stream",
     "text": [
      "64\n",
      "Nokia\n"
     ]
    }
   ],
   "source": [
    "numList=[23,64,54,-1,43,24]\n",
    "print(max(numList))\n",
    "stringList = [\"ML\", \"Nokia\", \"EDP\", \"123\"]\n",
    "print(max(stringList))"
   ]
  },
  {
   "cell_type": "markdown",
   "metadata": {},
   "source": [
    "### Min element in a list:\n",
    "### # min(list_name)"
   ]
  },
  {
   "cell_type": "code",
   "execution_count": 22,
   "metadata": {},
   "outputs": [
    {
     "name": "stdout",
     "output_type": "stream",
     "text": [
      "-1\n",
      "123\n"
     ]
    }
   ],
   "source": [
    "numList=[23,64,54,-1,43,24]\n",
    "print(min(numList))\n",
    "stringList = [\"ML\", \"Nokia\", \"EDP\", \"123\"]\n",
    "print(min(stringList))      "
   ]
  },
  {
   "cell_type": "markdown",
   "metadata": {},
   "source": [
    "### Count the number of occurrence of an element in a list:\n",
    "### # list_name.count(elem)"
   ]
  },
  {
   "cell_type": "code",
   "execution_count": 23,
   "metadata": {},
   "outputs": [
    {
     "name": "stdout",
     "output_type": "stream",
     "text": [
      "2\n",
      "0\n"
     ]
    }
   ],
   "source": [
    "numList=[23,64,54,-1,43,24,23]\n",
    "print(numList.count(23))\n",
    "print(numList.count(10))"
   ]
  },
  {
   "cell_type": "markdown",
   "metadata": {},
   "source": [
    "### Lists can contain any kind of Python object, including other lists, as in the following example:"
   ]
  },
  {
   "cell_type": "code",
   "execution_count": 24,
   "metadata": {},
   "outputs": [
    {
     "name": "stdout",
     "output_type": "stream",
     "text": [
      "[1, 'Nokia', 3.14, ['Machine Learning', 7, 9, [100, 101]], 10]\n",
      "Nokia\n",
      "9\n",
      "101\n"
     ]
    }
   ],
   "source": [
    "a = [1,\"Nokia\",3.14, [\"Machine Learning\", 7, 9, [100,101]], 10]\n",
    "print(a)\n",
    "\n",
    "# Items contained in nested lists are accessed by applying more than one indexing operation, as follows:\n",
    "print(a[1])         \n",
    "print(a[3][2])\n",
    "print(a[3][3][1])"
   ]
  },
  {
   "cell_type": "markdown",
   "metadata": {},
   "source": [
    "### Negetive indexing:"
   ]
  },
  {
   "cell_type": "code",
   "execution_count": 25,
   "metadata": {},
   "outputs": [
    {
     "name": "stdout",
     "output_type": "stream",
     "text": [
      "Nokia\n",
      "ML\n"
     ]
    }
   ],
   "source": [
    "names=[\"ML\",\"EDP\",\"Nokia\"]\n",
    "print(names[-1])\n",
    "print(names[-3])"
   ]
  },
  {
   "cell_type": "markdown",
   "metadata": {},
   "source": [
    "### Different Slicing examples:"
   ]
  },
  {
   "cell_type": "code",
   "execution_count": 26,
   "metadata": {},
   "outputs": [
    {
     "name": "stdout",
     "output_type": "stream",
     "text": [
      "[0, 1, 2, 3, 4, 5, 6, 7, 8, 9]\n",
      " \n",
      "Example 1:\n",
      "[4, 5, 6, 7]\n",
      " \n",
      "Example 2:\n",
      "[5, 6, 7, 8, 9]\n",
      " \n",
      "Example 3:\n",
      "[6, 7]\n",
      " \n",
      "Example 4:\n",
      "[4, 5, 6, 7, 8, 9]\n",
      " \n",
      "Example 5:\n",
      "[0, 2, 4, 6, 8]\n",
      " \n",
      "Example 6:\n",
      "[0, 3, 6, 9]\n",
      " \n",
      "Example 7:\n",
      "[9, 7, 5, 3, 1]\n",
      " \n",
      "Example 8:\n",
      "[9, 8, 7, 6, 5, 4, 3, 2, 1, 0]\n"
     ]
    }
   ],
   "source": [
    "myList=[0,1,2,3,4,5,6,7,8,9]\n",
    "print(myList)\n",
    "print(\" \")\n",
    "\n",
    "print(\"Example 1:\")\n",
    "print(myList[4:8])\n",
    "print(\" \")\n",
    "\n",
    "print(\"Example 2:\")\n",
    "print(myList[5:])\n",
    "print(\" \")\n",
    "\n",
    "print(\"Example 3:\")\n",
    "print(myList[-4:-2])\n",
    "print(\" \")\n",
    "\n",
    "print(\"Example 4:\")\n",
    "print(myList[-6:])\n",
    "print(\" \")\n",
    "\n",
    "print(\"Example 5:\")\n",
    "print(myList[0:10:2])\n",
    "print(\" \")\n",
    "\n",
    "print(\"Example 6:\")\n",
    "print(myList[::3])\n",
    "print(\" \")\n",
    "\n",
    "print(\"Example 7:\")\n",
    "print(myList[::-2])\n",
    "print(\" \")\n",
    "\n",
    "print(\"Example 8:\")\n",
    "myList=[0,1,2,3,4,5,6,7,8,9]\n",
    "print(myList[::-1])                  # reverse the list"
   ]
  },
  {
   "cell_type": "markdown",
   "metadata": {},
   "source": [
    "### Find all the in-built functions in List:"
   ]
  },
  {
   "cell_type": "code",
   "execution_count": 27,
   "metadata": {},
   "outputs": [
    {
     "name": "stdout",
     "output_type": "stream",
     "text": [
      "['__add__', '__class__', '__contains__', '__delattr__', '__delitem__', '__dir__', '__doc__', '__eq__', '__format__', '__ge__', '__getattribute__', '__getitem__', '__gt__', '__hash__', '__iadd__', '__imul__', '__init__', '__init_subclass__', '__iter__', '__le__', '__len__', '__lt__', '__mul__', '__ne__', '__new__', '__reduce__', '__reduce_ex__', '__repr__', '__reversed__', '__rmul__', '__setattr__', '__setitem__', '__sizeof__', '__str__', '__subclasshook__', 'append', 'clear', 'copy', 'count', 'extend', 'index', 'insert', 'pop', 'remove', 'reverse', 'sort']\n"
     ]
    }
   ],
   "source": [
    "myList=[0,1,2,3,4,5,6,7,8,9]\n",
    "print(dir(myList))"
   ]
  },
  {
   "cell_type": "code",
   "execution_count": null,
   "metadata": {},
   "outputs": [],
   "source": []
  }
 ],
 "metadata": {
  "kernelspec": {
   "display_name": "Python 3",
   "language": "python",
   "name": "python3"
  },
  "language_info": {
   "codemirror_mode": {
    "name": "ipython",
    "version": 3
   },
   "file_extension": ".py",
   "mimetype": "text/x-python",
   "name": "python",
   "nbconvert_exporter": "python",
   "pygments_lexer": "ipython3",
   "version": "3.7.6"
  }
 },
 "nbformat": 4,
 "nbformat_minor": 2
}
