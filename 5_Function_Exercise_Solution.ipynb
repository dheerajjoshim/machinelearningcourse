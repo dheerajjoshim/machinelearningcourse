{
 "cells": [
  {
   "cell_type": "markdown",
   "metadata": {},
   "source": [
    "## Functions:\n",
    "\n",
    "###\n",
    "###  def functionname(arg1, arg2, ...):\n",
    "###       statement1\n",
    "###       statement2\n",
    "###       ...\n",
    "###       return (...) # return is optional\n",
    "###"
   ]
  },
  {
   "cell_type": "markdown",
   "metadata": {},
   "source": [
    "## Exercise\n",
    "\n",
    "### # Find the \"Fibonacci series\" for the first 8 numbers after 0 & 1\n",
    "### # i.e 0,1, ?, ?, ?, ?, ?, ?, ?, ?"
   ]
  },
  {
   "cell_type": "markdown",
   "metadata": {},
   "source": [
    "### Hints"
   ]
  },
  {
   "cell_type": "code",
   "execution_count": null,
   "metadata": {},
   "outputs": [],
   "source": [
    "def fibonacci_series(n):\n",
    "    a=0\n",
    "    b=1\n",
    "    print(a)\n",
    "    print(b)\n",
    "    print(\"The counting starts now\")\n",
    "    sum = ?\n",
    "    for x in range(?):\n",
    "        sum = ? + ?\n",
    "        print(sum)\n",
    "        ? = ?\n",
    "        ? = ?\n",
    "    \n",
    "number = 8\n",
    "fibonacci_series(?)"
   ]
  },
  {
   "cell_type": "markdown",
   "metadata": {},
   "source": [
    "### Solution\n",
    "### # Fibonacci series"
   ]
  },
  {
   "cell_type": "code",
   "execution_count": 1,
   "metadata": {},
   "outputs": [
    {
     "name": "stdout",
     "output_type": "stream",
     "text": [
      "The counting starts now\n",
      "1\n",
      "2\n",
      "3\n",
      "5\n",
      "8\n",
      "13\n",
      "21\n",
      "34\n"
     ]
    }
   ],
   "source": [
    "def fibonacci_series(n):\n",
    "    a=0\n",
    "    b=1\n",
    "    # print(a)\n",
    "    # print(b)\n",
    "    print(\"The counting starts now\")\n",
    "    sum = 0\n",
    "    for x in range(n):\n",
    "        sum = a+b\n",
    "        print(sum)\n",
    "        a = b\n",
    "        b = sum\n",
    "    \n",
    "number = 8\n",
    "fibonacci_series(number)"
   ]
  },
  {
   "cell_type": "code",
   "execution_count": null,
   "metadata": {},
   "outputs": [],
   "source": []
  }
 ],
 "metadata": {
  "kernelspec": {
   "display_name": "Python 3",
   "language": "python",
   "name": "python3"
  },
  "language_info": {
   "codemirror_mode": {
    "name": "ipython",
    "version": 3
   },
   "file_extension": ".py",
   "mimetype": "text/x-python",
   "name": "python",
   "nbconvert_exporter": "python",
   "pygments_lexer": "ipython3",
   "version": "3.7.6"
  }
 },
 "nbformat": 4,
 "nbformat_minor": 2
}
