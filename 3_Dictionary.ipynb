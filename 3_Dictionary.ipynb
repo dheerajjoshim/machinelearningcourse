{
 "cells": [
  {
   "cell_type": "markdown",
   "metadata": {},
   "source": [
    "# Dictionaries\n",
    "   \n",
    "### # Dictionary in Python is an unordered collection of data values. \n",
    "### # Dictionary holds key:value pair.  \n",
    "### # Each key-value pair in a Dictionary is separated by a colon whereas each key is separated by a ‘comma’.\n",
    "### # Keys of a Dictionary must be unique."
   ]
  },
  {
   "cell_type": "code",
   "execution_count": 1,
   "metadata": {},
   "outputs": [
    {
     "name": "stdout",
     "output_type": "stream",
     "text": [
      "{1: 'Nokia', 2: 'EDP', 3: 'Nokia', 4: 'Nokia', 'Nokia': 1}\n",
      "{1: 'ML', 2: 'Pritish', 3: 'Nokia'}\n"
     ]
    }
   ],
   "source": [
    "Dictionary = {1:'Nokia',2:'EDP',3:'Nokia',4:'Nokia', 'Nokia':1}\n",
    "print(Dictionary)\n",
    "\n",
    "Dictionary = {1:'Nokia', 2:'EDP',3:'Nokia', 1:'ML', 2:'Pritish'}\n",
    "print(Dictionary)"
   ]
  },
  {
   "cell_type": "markdown",
   "metadata": {},
   "source": [
    "### Dictionary keys can be of different data types:"
   ]
  },
  {
   "cell_type": "code",
   "execution_count": 2,
   "metadata": {},
   "outputs": [
    {
     "name": "stdout",
     "output_type": "stream",
     "text": [
      "{'name': 'Pritish', 1: [2, 3, 4]}\n"
     ]
    }
   ],
   "source": [
    "Dictionary = {'name':'Pritish',1:[2,3,4]} \n",
    "print(Dictionary)"
   ]
  },
  {
   "cell_type": "markdown",
   "metadata": {},
   "source": [
    "### Accessing a particular element in a dictionary via the key:"
   ]
  },
  {
   "cell_type": "code",
   "execution_count": 3,
   "metadata": {},
   "outputs": [
    {
     "name": "stdout",
     "output_type": "stream",
     "text": [
      "Nokia\n"
     ]
    }
   ],
   "source": [
    "Dictionary = {1:'Nokia',2:'EDP',3:'Machine Learning'} \n",
    "print(Dictionary[1])       "
   ]
  },
  {
   "cell_type": "markdown",
   "metadata": {},
   "source": [
    "### Length of a dictionary:\n",
    "### # len(dictionary_name)"
   ]
  },
  {
   "cell_type": "code",
   "execution_count": 4,
   "metadata": {},
   "outputs": [
    {
     "name": "stdout",
     "output_type": "stream",
     "text": [
      "3\n"
     ]
    }
   ],
   "source": [
    "Dictionary = {1:'Nokia',2:'EDP',3:'Machine Learning'} \n",
    "print(len(Dictionary))     "
   ]
  },
  {
   "cell_type": "markdown",
   "metadata": {},
   "source": [
    "### Keys of the dictionary:\n",
    "### #  dictionary_name.keys()"
   ]
  },
  {
   "cell_type": "code",
   "execution_count": 5,
   "metadata": {},
   "outputs": [
    {
     "name": "stdout",
     "output_type": "stream",
     "text": [
      "dict_keys([1, 2, 3])\n"
     ]
    }
   ],
   "source": [
    "Dictionary = {1:'Nokia',2:'EDP',3:'Machine Learning'} \n",
    "print(Dictionary.keys())"
   ]
  },
  {
   "cell_type": "markdown",
   "metadata": {},
   "source": [
    "### Values corresponding to the keys of a dictionary:\n",
    "### # dictionary_name.values()"
   ]
  },
  {
   "cell_type": "code",
   "execution_count": 6,
   "metadata": {},
   "outputs": [
    {
     "name": "stdout",
     "output_type": "stream",
     "text": [
      "dict_values(['Nokia', 'EDP', 'Machine Learning'])\n"
     ]
    }
   ],
   "source": [
    "Dictionary = {1:'Nokia',2:'EDP',3:'Machine Learning'} \n",
    "print(Dictionary.values())"
   ]
  },
  {
   "cell_type": "markdown",
   "metadata": {},
   "source": [
    "### Check for all the items in the dictionary:\n",
    "### # dictionary_name.items()"
   ]
  },
  {
   "cell_type": "code",
   "execution_count": 7,
   "metadata": {},
   "outputs": [
    {
     "name": "stdout",
     "output_type": "stream",
     "text": [
      "dict_items([(1, 'Nokia'), (2, 'ML')])\n"
     ]
    }
   ],
   "source": [
    "Dictionary = {1:'Nokia',2:'ML'}       # item is the combination of the key, value pair\n",
    "print(Dictionary.items())"
   ]
  },
  {
   "cell_type": "markdown",
   "metadata": {},
   "source": [
    "### Getting the value of a particular key element in dictionary\n",
    "### # dictionary_name.get(element_index_key)"
   ]
  },
  {
   "cell_type": "code",
   "execution_count": 8,
   "metadata": {},
   "outputs": [
    {
     "name": "stdout",
     "output_type": "stream",
     "text": [
      "Nokia\n",
      "ML\n"
     ]
    }
   ],
   "source": [
    "Dictionary = {1:'Nokia',2:'ML'}\n",
    "print(Dictionary.get(1))  \n",
    "print(Dictionary.get(2))"
   ]
  },
  {
   "cell_type": "markdown",
   "metadata": {},
   "source": [
    "### Updating a value in the dictionary:"
   ]
  },
  {
   "cell_type": "code",
   "execution_count": 9,
   "metadata": {},
   "outputs": [
    {
     "name": "stdout",
     "output_type": "stream",
     "text": [
      "{1: 'NOKIA', 2: 'EDP', 3: 'ML'}\n"
     ]
    }
   ],
   "source": [
    "Dictionary = {1:'Nokia',2:'EDP',3:'Project Management'}\n",
    "Dictionary.update( {3:'ML',1:'NOKIA'} )                     # Can update multiple keys at a single time\n",
    "print(Dictionary)"
   ]
  },
  {
   "cell_type": "markdown",
   "metadata": {},
   "source": [
    "### Updating a value in the dictionary without using built-in update:"
   ]
  },
  {
   "cell_type": "code",
   "execution_count": 10,
   "metadata": {},
   "outputs": [
    {
     "name": "stdout",
     "output_type": "stream",
     "text": [
      "95\n",
      "{'ML': 95, 'Project Management': 86, 'Cloud Ambessador': 90}\n"
     ]
    }
   ],
   "source": [
    "edp_subjects = {\"ML\":93, \"Project Management\":86, \"Cloud Ambessador\":90}\n",
    "edp_subjects[\"ML\"]=95      \n",
    "print(edp_subjects[\"ML\"])\n",
    "print(edp_subjects)"
   ]
  },
  {
   "cell_type": "markdown",
   "metadata": {},
   "source": [
    "### Pop an element from the dictionary:\n",
    "### # dictionary_name.pop(key)"
   ]
  },
  {
   "cell_type": "code",
   "execution_count": 11,
   "metadata": {},
   "outputs": [
    {
     "name": "stdout",
     "output_type": "stream",
     "text": [
      "EDP\n",
      "{1: 'Nokia', 3: 'ML'}\n"
     ]
    }
   ],
   "source": [
    "Dictionary = {1:'Nokia',2:'EDP',3:'ML'}\n",
    "print(Dictionary.pop(2))                  # pop mandatorily needs a value as an argument to be passed         \n",
    "print(Dictionary)"
   ]
  },
  {
   "cell_type": "markdown",
   "metadata": {},
   "source": [
    "### Clearing the dictionary elements, deleting the dictionary:\n",
    "### # dictionary_name.clear()\n",
    "### # del dictionary_name"
   ]
  },
  {
   "cell_type": "code",
   "execution_count": 12,
   "metadata": {},
   "outputs": [
    {
     "name": "stdout",
     "output_type": "stream",
     "text": [
      "{}\n"
     ]
    }
   ],
   "source": [
    "students = {\"Eric\":14, \"Bob\":12, \"Alice\":26}\n",
    "students.clear()\n",
    "print(students)\n",
    "del students"
   ]
  },
  {
   "cell_type": "markdown",
   "metadata": {},
   "source": [
    "### Delete an element in the dictionary:\n",
    "### # del dictionary_name[element_index]"
   ]
  },
  {
   "cell_type": "code",
   "execution_count": 13,
   "metadata": {},
   "outputs": [
    {
     "name": "stdout",
     "output_type": "stream",
     "text": [
      "{'Eric': 14, 'Alice': 26}\n"
     ]
    }
   ],
   "source": [
    "students = {\"Eric\":14, \"Bob\":12, \"Alice\":26}\n",
    "del students[\"Bob\"]\n",
    "print(students)\n",
    "del students"
   ]
  },
  {
   "cell_type": "markdown",
   "metadata": {},
   "source": [
    "### Updating a dictionary by adding one more dictionary to an existing dictionary:\n",
    "### # dictionary_name1.update(dictionary_name2)"
   ]
  },
  {
   "cell_type": "code",
   "execution_count": 14,
   "metadata": {},
   "outputs": [
    {
     "name": "stdout",
     "output_type": "stream",
     "text": [
      "{'Eric': 14, 'Bob': 12, 'Alice': 26, 1: 'John', 2: 'Bob', 3: 'James'}\n"
     ]
    }
   ],
   "source": [
    "students_1 = {\"Eric\":14, \"Bob\":12, \"Alice\":26}\n",
    "students_2 = {1:'John',2:'Bob',3:'James'}\n",
    "students_1.update(students_2)\n",
    "print(students_1)"
   ]
  },
  {
   "cell_type": "markdown",
   "metadata": {},
   "source": [
    "### Ordered Dictionary\n",
    "### # usage of OrderedDict\n",
    "      \n",
    "#### OrderedDict preserves the order in which the keys are inserted. A regular dict doesn’t track the \n",
    "####  insertion order, and iterating it gives the values in an arbitrary order. By contrast, the order the \n",
    "####  items are inserted is remembered by OrderedDict."
   ]
  },
  {
   "cell_type": "code",
   "execution_count": 15,
   "metadata": {},
   "outputs": [
    {
     "name": "stdout",
     "output_type": "stream",
     "text": [
      "This is a normal Dictionary: \n",
      "a 1\n",
      "b 2\n",
      "c 3\n",
      "d 4\n",
      "e 5\n",
      "f 6\n",
      "\n",
      "This is an Ordered Dictionary: \n",
      "a 1\n",
      "b 2\n",
      "c 3\n",
      "d 4\n",
      "e 5\n",
      "f 6\n"
     ]
    }
   ],
   "source": [
    "from collections import OrderedDict\n",
    " \n",
    "print(\"This is a normal Dictionary: \")\n",
    "d = {}\n",
    "d['a'] = 1\n",
    "d['b'] = 2\n",
    "d['c'] = 3\n",
    "d['d'] = 4\n",
    "d['e'] = 5\n",
    "d['f'] = 6\n",
    " \n",
    "for key, value in d.items():\n",
    "    print(key, value)\n",
    "\n",
    "print(\"\\nThis is an Ordered Dictionary: \")\n",
    "od = OrderedDict()\n",
    "od['a'] = 1\n",
    "od['b'] = 2\n",
    "od['c'] = 3\n",
    "od['d'] = 4\n",
    "od['e'] = 5\n",
    "od['f'] = 6\n",
    "\n",
    "for key, value in od.items():\n",
    "    print(key, value)\n"
   ]
  },
  {
   "cell_type": "markdown",
   "metadata": {},
   "source": [
    "### Dictionary built-in function"
   ]
  },
  {
   "cell_type": "code",
   "execution_count": 16,
   "metadata": {},
   "outputs": [
    {
     "name": "stdout",
     "output_type": "stream",
     "text": [
      "['__add__', '__class__', '__contains__', '__delattr__', '__dir__', '__doc__', '__eq__', '__format__', '__ge__', '__getattribute__', '__getitem__', '__getnewargs__', '__gt__', '__hash__', '__init__', '__init_subclass__', '__iter__', '__le__', '__len__', '__lt__', '__mod__', '__mul__', '__ne__', '__new__', '__reduce__', '__reduce_ex__', '__repr__', '__rmod__', '__rmul__', '__setattr__', '__sizeof__', '__str__', '__subclasshook__', 'capitalize', 'casefold', 'center', 'count', 'encode', 'endswith', 'expandtabs', 'find', 'format', 'format_map', 'index', 'isalnum', 'isalpha', 'isascii', 'isdecimal', 'isdigit', 'isidentifier', 'islower', 'isnumeric', 'isprintable', 'isspace', 'istitle', 'isupper', 'join', 'ljust', 'lower', 'lstrip', 'maketrans', 'partition', 'replace', 'rfind', 'rindex', 'rjust', 'rpartition', 'rsplit', 'rstrip', 'split', 'splitlines', 'startswith', 'strip', 'swapcase', 'title', 'translate', 'upper', 'zfill']\n"
     ]
    }
   ],
   "source": [
    "Dictionary = {1:'Nokia',2:'EDP',3:'Machine Learning'} \n",
    "print(dir(Dictionary[1]))"
   ]
  },
  {
   "cell_type": "code",
   "execution_count": null,
   "metadata": {},
   "outputs": [],
   "source": []
  }
 ],
 "metadata": {
  "kernelspec": {
   "display_name": "Python 3",
   "language": "python",
   "name": "python3"
  },
  "language_info": {
   "codemirror_mode": {
    "name": "ipython",
    "version": 3
   },
   "file_extension": ".py",
   "mimetype": "text/x-python",
   "name": "python",
   "nbconvert_exporter": "python",
   "pygments_lexer": "ipython3",
   "version": "3.7.6"
  }
 },
 "nbformat": 4,
 "nbformat_minor": 2
}
