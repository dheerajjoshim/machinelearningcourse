{
 "cells": [
  {
   "cell_type": "markdown",
   "metadata": {},
   "source": [
    "### Exercise\n",
    "### # Write Factorial program and verify the output with factorial of 5"
   ]
  },
  {
   "cell_type": "markdown",
   "metadata": {},
   "source": [
    "### Hints"
   ]
  },
  {
   "cell_type": "code",
   "execution_count": null,
   "metadata": {},
   "outputs": [],
   "source": [
    "num = 5               # For which number the factorial is to be calculated\n",
    "\n",
    "factorial = ?\n",
    "if num < 0:\n",
    "    print(\"Number must be positive\")\n",
    "elif num == 0:\n",
    "    print(\" Factorial is = 1\")\n",
    "else:\n",
    "    for i in range(?, ?):\n",
    "        ? = ? * ?\n",
    "print(\"Factorial is: \", factorial)"
   ]
  }
 ],
 "metadata": {
  "kernelspec": {
   "display_name": "Python 3",
   "language": "python",
   "name": "python3"
  },
  "language_info": {
   "codemirror_mode": {
    "name": "ipython",
    "version": 3
   },
   "file_extension": ".py",
   "mimetype": "text/x-python",
   "name": "python",
   "nbconvert_exporter": "python",
   "pygments_lexer": "ipython3",
   "version": "3.7.6"
  }
 },
 "nbformat": 4,
 "nbformat_minor": 2
}
