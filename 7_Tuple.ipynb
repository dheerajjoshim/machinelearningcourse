{
 "cells": [
  {
   "cell_type": "markdown",
   "metadata": {},
   "source": [
    "## Tuple\n",
    "\n",
    "### # A tuple is a sequence of immutable Python objects. Tuples are sequences, just like lists. \n",
    "### # The differences between tuples and lists are, the tuples cannot be changed unlike lists and tuples \n",
    "###      use parentheses, whereas lists use square brackets.\n",
    "\n",
    "### # tuples are like collection of immutable objects which will never change.\n",
    "\n",
    "### # tuples cannot be modified hence there is no \"append\" function possible in tuple"
   ]
  },
  {
   "cell_type": "code",
   "execution_count": 1,
   "metadata": {},
   "outputs": [
    {
     "name": "stdout",
     "output_type": "stream",
     "text": [
      "<class 'tuple'>\n",
      "('Pritish', 'Nokia', 'EDP', 5, 2.4)\n"
     ]
    }
   ],
   "source": [
    "my_tup = ('Pritish','Nokia','EDP',5 ,2.4) # tuples cannot be modified after creation\n",
    "print(type(my_tup))\n",
    "print(my_tup)"
   ]
  },
  {
   "cell_type": "markdown",
   "metadata": {},
   "source": [
    "### Length of a Tuple:\n",
    "### # len(tuple_name)"
   ]
  },
  {
   "cell_type": "code",
   "execution_count": 2,
   "metadata": {},
   "outputs": [
    {
     "name": "stdout",
     "output_type": "stream",
     "text": [
      "5\n",
      "EDP\n"
     ]
    }
   ],
   "source": [
    "my_tup = ('Pritish','Nokia','EDP',5 ,2.4)\n",
    "print(len(my_tup))\n",
    "\n",
    "w = my_tup[2]\n",
    "print(w)"
   ]
  },
  {
   "cell_type": "markdown",
   "metadata": {},
   "source": [
    "### Slicing:\n",
    "###  # tuple_name[starting_range:ending_range]"
   ]
  },
  {
   "cell_type": "code",
   "execution_count": 3,
   "metadata": {},
   "outputs": [
    {
     "name": "stdout",
     "output_type": "stream",
     "text": [
      "('Pritish', 'Nokia', 'EDP')\n",
      "('Nokia',)\n"
     ]
    }
   ],
   "source": [
    "print(my_tup[0:3])  # print the 0,1,2 elements but doesnot print the 3rd element\n",
    "print(my_tup[1:2])"
   ]
  },
  {
   "cell_type": "markdown",
   "metadata": {},
   "source": [
    "### Index:\n",
    "### # tuple_name[element_index]"
   ]
  },
  {
   "cell_type": "code",
   "execution_count": 4,
   "metadata": {},
   "outputs": [
    {
     "name": "stdout",
     "output_type": "stream",
     "text": [
      "a\n",
      "<class 'str'>\n",
      " \n",
      "('Dravid', 'Ponting', 'Johnson')\n",
      "Lampard\n"
     ]
    }
   ],
   "source": [
    "tup=('a','b','c')\n",
    "print(tup[0])\n",
    "print(type(tup[0]))\n",
    "print(\" \")\n",
    "\n",
    "Football = (('Hazard','Hazard','Lampard','Terry'),('Dravid','Ponting','Johnson'))\n",
    "print(Football[1])\n",
    "print(Football[0][2])"
   ]
  },
  {
   "cell_type": "markdown",
   "metadata": {},
   "source": [
    "### usage of index\n",
    "### # tuple_name.index(value)"
   ]
  },
  {
   "cell_type": "code",
   "execution_count": 5,
   "metadata": {},
   "outputs": [
    {
     "name": "stdout",
     "output_type": "stream",
     "text": [
      "3\n"
     ]
    }
   ],
   "source": [
    "task = ('Nokia','Bangalore','EDP','ML')\n",
    "print(task.index('ML'))"
   ]
  },
  {
   "cell_type": "markdown",
   "metadata": {},
   "source": [
    "### Concatenation of tuples\n",
    "### # Tuple1 + Tuple2"
   ]
  },
  {
   "cell_type": "code",
   "execution_count": 6,
   "metadata": {},
   "outputs": [
    {
     "name": "stdout",
     "output_type": "stream",
     "text": [
      "('a', 'b', 'c', 'd', 'f')\n",
      "('a', 'b', 'c')\n"
     ]
    }
   ],
   "source": [
    "tup=('a','b','c')\n",
    "print(tup + ('d','f'))\n",
    "print(tup)"
   ]
  },
  {
   "cell_type": "markdown",
   "metadata": {},
   "source": [
    "### Repetition in tuples\n",
    "### # Tuple * x"
   ]
  },
  {
   "cell_type": "code",
   "execution_count": 7,
   "metadata": {},
   "outputs": [
    {
     "name": "stdout",
     "output_type": "stream",
     "text": [
      "('a', 'b', 'c', 'a', 'b', 'c')\n"
     ]
    }
   ],
   "source": [
    "tup=('a','b','c')\n",
    "print(tup * 2)"
   ]
  },
  {
   "cell_type": "markdown",
   "metadata": {},
   "source": [
    "### Count:\n",
    "### # Tuple.count(value)"
   ]
  },
  {
   "cell_type": "code",
   "execution_count": 8,
   "metadata": {},
   "outputs": [
    {
     "data": {
      "text/plain": [
       "2"
      ]
     },
     "execution_count": 8,
     "metadata": {},
     "output_type": "execute_result"
    }
   ],
   "source": [
    "Football = (('Hazard','Hazard','Lampard','Terry'),('Dravid','Ponting','Johnson'))\n",
    "Football[0].count(\"Hazard\")"
   ]
  },
  {
   "cell_type": "markdown",
   "metadata": {},
   "source": [
    "### Delete a Tuple:"
   ]
  },
  {
   "cell_type": "code",
   "execution_count": 9,
   "metadata": {},
   "outputs": [],
   "source": [
    "tup=('a','b','c')\n",
    "del tup   "
   ]
  },
  {
   "cell_type": "markdown",
   "metadata": {},
   "source": [
    "### built-in functions in Tuple"
   ]
  },
  {
   "cell_type": "code",
   "execution_count": 10,
   "metadata": {},
   "outputs": [
    {
     "name": "stdout",
     "output_type": "stream",
     "text": [
      "['__add__', '__class__', '__contains__', '__delattr__', '__dir__', '__doc__', '__eq__', '__format__', '__ge__', '__getattribute__', '__getitem__', '__getnewargs__', '__gt__', '__hash__', '__init__', '__init_subclass__', '__iter__', '__le__', '__len__', '__lt__', '__mul__', '__ne__', '__new__', '__reduce__', '__reduce_ex__', '__repr__', '__rmul__', '__setattr__', '__sizeof__', '__str__', '__subclasshook__', 'count', 'index']\n"
     ]
    }
   ],
   "source": [
    "MyTuple = (\"Red\", \"Blue\", \"Green\")\n",
    "print(dir(MyTuple))"
   ]
  },
  {
   "cell_type": "markdown",
   "metadata": {},
   "source": [
    "### built-in function __add__ usage"
   ]
  },
  {
   "cell_type": "code",
   "execution_count": 11,
   "metadata": {},
   "outputs": [
    {
     "data": {
      "text/plain": [
       "('item1', 2, 'item3', ['list1', 'list2'], 'newTupleItem1', 'newTupleItem2')"
      ]
     },
     "execution_count": 11,
     "metadata": {},
     "output_type": "execute_result"
    }
   ],
   "source": [
    "myTuple = ('item1', 2, 'item3', ['list1', 'list2'])\n",
    "NewTuple = myTuple.__add__(('newTupleItem1','newTupleItem2'))\n",
    "NewTuple"
   ]
  },
  {
   "cell_type": "code",
   "execution_count": null,
   "metadata": {},
   "outputs": [],
   "source": []
  }
 ],
 "metadata": {
  "kernelspec": {
   "display_name": "Python 3",
   "language": "python",
   "name": "python3"
  },
  "language_info": {
   "codemirror_mode": {
    "name": "ipython",
    "version": 3
   },
   "file_extension": ".py",
   "mimetype": "text/x-python",
   "name": "python",
   "nbconvert_exporter": "python",
   "pygments_lexer": "ipython3",
   "version": "3.7.6"
  }
 },
 "nbformat": 4,
 "nbformat_minor": 2
}
