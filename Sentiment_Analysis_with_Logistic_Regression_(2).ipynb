{
  "nbformat": 4,
  "nbformat_minor": 0,
  "metadata": {
    "colab": {
      "name": "Sentiment_Analysis_with_Logistic_Regression (2).ipynb",
      "provenance": [],
      "collapsed_sections": [],
      "include_colab_link": true
    },
    "kernelspec": {
      "name": "python3",
      "display_name": "Python 3"
    }
  },
  "cells": [
    {
      "cell_type": "markdown",
      "metadata": {
        "id": "view-in-github",
        "colab_type": "text"
      },
      "source": [
        "<a href=\"https://colab.research.google.com/github/dheerajjoshim/machinelearningcourse/blob/master/Sentiment_Analysis_with_Logistic_Regression_(2).ipynb\" target=\"_parent\"><img src=\"https://colab.research.google.com/assets/colab-badge.svg\" alt=\"Open In Colab\"/></a>"
      ]
    },
    {
      "cell_type": "markdown",
      "metadata": {
        "id": "kNV1cit2KNIX",
        "colab_type": "text"
      },
      "source": [
        "# Import Dataset"
      ]
    },
    {
      "cell_type": "code",
      "metadata": {
        "id": "570_jZbvT4Pk",
        "colab_type": "code",
        "colab": {
          "base_uri": "https://localhost:8080/",
          "height": 51
        },
        "outputId": "2d89208c-cc73-499f-ec15-28e34b3e1cf6"
      },
      "source": [
        "import nltk\n",
        "from nltk.corpus import twitter_samples\n",
        "import numpy as np\n",
        "nltk.download('twitter_samples')\n",
        "positive_tweets =twitter_samples.strings('positive_tweets.json')\n",
        "negative_tweets =twitter_samples.strings('negative_tweets.json')\n",
        "example_postive_tweet=positive_tweets[1]\n",
        "example_negative_tweet=negative_tweets[0]\n",
        "test_pos = positive_tweets[4000:]\n",
        "train_pos = positive_tweets[:4000]\n",
        "test_neg = negative_tweets[4000:]\n",
        "train_neg = negative_tweets[:4000]\n",
        "train_x = train_pos + train_neg \n",
        "test_x = test_pos + test_neg\n",
        "train_y = np.append(np.ones((len(train_pos), 1)), np.zeros((len(train_neg), 1)), axis=0)\n",
        "test_y = np.append(np.ones((len(test_pos), 1)), np.zeros((len(test_neg), 1)), axis=0)"
      ],
      "execution_count": 1,
      "outputs": [
        {
          "output_type": "stream",
          "text": [
            "[nltk_data] Downloading package twitter_samples to /root/nltk_data...\n",
            "[nltk_data]   Unzipping corpora/twitter_samples.zip.\n"
          ],
          "name": "stdout"
        }
      ]
    },
    {
      "cell_type": "code",
      "metadata": {
        "id": "Po3ubMmW7EJe",
        "colab_type": "code",
        "colab": {
          "base_uri": "https://localhost:8080/",
          "height": 51
        },
        "outputId": "42277336-2cbb-4deb-f98c-c67e9d0313c2"
      },
      "source": [
        "print(\"positive tweet-> \",example_postive_tweet)\n",
        "print(\"negative tweet-> \",example_negative_tweet)"
      ],
      "execution_count": 19,
      "outputs": [
        {
          "output_type": "stream",
          "text": [
            "positive tweet->  @Lamb2ja Hey James! How odd :/ Please call our Contact Centre on 02392441234 and we will be able to assist you :) Many thanks!\n",
            "negative tweet->  hopeless for tmr :(\n"
          ],
          "name": "stdout"
        }
      ]
    },
    {
      "cell_type": "markdown",
      "metadata": {
        "id": "anEo14yIKVLz",
        "colab_type": "text"
      },
      "source": [
        "# Feature Engineering"
      ]
    },
    {
      "cell_type": "markdown",
      "metadata": {
        "id": "JIjuTk3oKyGb",
        "colab_type": "text"
      },
      "source": [
        "## Tokenizing"
      ]
    },
    {
      "cell_type": "code",
      "metadata": {
        "id": "cE_FMsDX91vJ",
        "colab_type": "code",
        "colab": {
          "base_uri": "https://localhost:8080/",
          "height": 459
        },
        "outputId": "c645a5de-9649-463d-88de-3f1c33309323"
      },
      "source": [
        "from nltk.tokenize import TweetTokenizer\n",
        "tokenizer = TweetTokenizer()\n",
        "tokens = tokenizer.tokenize(example_postive_tweet)\n",
        "tokens"
      ],
      "execution_count": 3,
      "outputs": [
        {
          "output_type": "execute_result",
          "data": {
            "text/plain": [
              "['@Lamb2ja',\n",
              " 'Hey',\n",
              " 'James',\n",
              " '!',\n",
              " 'How',\n",
              " 'odd',\n",
              " ':/',\n",
              " 'Please',\n",
              " 'call',\n",
              " 'our',\n",
              " 'Contact',\n",
              " 'Centre',\n",
              " 'on',\n",
              " '02392441234',\n",
              " 'and',\n",
              " 'we',\n",
              " 'will',\n",
              " 'be',\n",
              " 'able',\n",
              " 'to',\n",
              " 'assist',\n",
              " 'you',\n",
              " ':)',\n",
              " 'Many',\n",
              " 'thanks',\n",
              " '!']"
            ]
          },
          "metadata": {
            "tags": []
          },
          "execution_count": 3
        }
      ]
    },
    {
      "cell_type": "markdown",
      "metadata": {
        "id": "SRDsvbttK2Mn",
        "colab_type": "text"
      },
      "source": [
        "## Removing Stopwords"
      ]
    },
    {
      "cell_type": "code",
      "metadata": {
        "id": "Gufeo-Um91yq",
        "colab_type": "code",
        "colab": {
          "base_uri": "https://localhost:8080/",
          "height": 68
        },
        "outputId": "1a5889df-a6c9-4205-c619-c66a40268823"
      },
      "source": [
        "from nltk.corpus import stopwords  \n",
        "nltk.download('stopwords')\n",
        "stopwords_english = stopwords.words('english') \n",
        "stopwords_english[:10]"
      ],
      "execution_count": 4,
      "outputs": [
        {
          "output_type": "stream",
          "text": [
            "[nltk_data] Downloading package stopwords to /root/nltk_data...\n",
            "[nltk_data]   Unzipping corpora/stopwords.zip.\n"
          ],
          "name": "stdout"
        },
        {
          "output_type": "execute_result",
          "data": {
            "text/plain": [
              "['i', 'me', 'my', 'myself', 'we', 'our', 'ours', 'ourselves', 'you', \"you're\"]"
            ]
          },
          "metadata": {
            "tags": []
          },
          "execution_count": 4
        }
      ]
    },
    {
      "cell_type": "code",
      "metadata": {
        "id": "9xsNxRBf913q",
        "colab_type": "code",
        "colab": {
          "base_uri": "https://localhost:8080/",
          "height": 289
        },
        "outputId": "6e13bc4d-8c95-46d1-8d06-6aec90eabc05"
      },
      "source": [
        "import string\n",
        "tweet_processsed=[word for word in tokens \n",
        "    if word not  in stopwords_english and word not in string.punctuation]\n",
        "tweet_processsed"
      ],
      "execution_count": 5,
      "outputs": [
        {
          "output_type": "execute_result",
          "data": {
            "text/plain": [
              "['@Lamb2ja',\n",
              " 'Hey',\n",
              " 'James',\n",
              " 'How',\n",
              " 'odd',\n",
              " ':/',\n",
              " 'Please',\n",
              " 'call',\n",
              " 'Contact',\n",
              " 'Centre',\n",
              " '02392441234',\n",
              " 'able',\n",
              " 'assist',\n",
              " ':)',\n",
              " 'Many',\n",
              " 'thanks']"
            ]
          },
          "metadata": {
            "tags": []
          },
          "execution_count": 5
        }
      ]
    },
    {
      "cell_type": "markdown",
      "metadata": {
        "id": "D7kpLheDK8PU",
        "colab_type": "text"
      },
      "source": [
        "## Stemming"
      ]
    },
    {
      "cell_type": "code",
      "metadata": {
        "id": "XJfA9XPw_TnX",
        "colab_type": "code",
        "colab": {
          "base_uri": "https://localhost:8080/",
          "height": 289
        },
        "outputId": "b4665f92-f1ec-4c2e-be04-fe5ecb229395"
      },
      "source": [
        "from nltk.stem import PorterStemmer  \n",
        "stemmer = PorterStemmer() \n",
        "tweet_after_stem=[]\n",
        "for word in tweet_processsed:\n",
        "    word=stemmer.stem(word)\n",
        "    tweet_after_stem.append(word)\n",
        "tweet_after_stem"
      ],
      "execution_count": 6,
      "outputs": [
        {
          "output_type": "execute_result",
          "data": {
            "text/plain": [
              "['@lamb2ja',\n",
              " 'hey',\n",
              " 'jame',\n",
              " 'how',\n",
              " 'odd',\n",
              " ':/',\n",
              " 'pleas',\n",
              " 'call',\n",
              " 'contact',\n",
              " 'centr',\n",
              " '02392441234',\n",
              " 'abl',\n",
              " 'assist',\n",
              " ':)',\n",
              " 'mani',\n",
              " 'thank']"
            ]
          },
          "metadata": {
            "tags": []
          },
          "execution_count": 6
        }
      ]
    },
    {
      "cell_type": "code",
      "metadata": {
        "id": "oYgyzhtVT_wq",
        "colab_type": "code",
        "colab": {
          "base_uri": "https://localhost:8080/",
          "height": 51
        },
        "outputId": "2926d70c-484f-4091-ad06-807fa9ef4df9"
      },
      "source": [
        "import re                                  \n",
        "import string\n",
        "from nltk.corpus import stopwords          \n",
        "from nltk.stem import PorterStemmer        \n",
        "from nltk.tokenize import TweetTokenizer\n",
        "nltk.download('stopwords')\n",
        "def text_process(tweet):\n",
        "    tweet = re.sub(r'^RT[\\s]+', '', tweet)\n",
        "    tweet = re.sub(r'https?:\\/\\/.*[\\r\\n]*', '', tweet)\n",
        "    tweet = re.sub(r'#', '', tweet)\n",
        "    tweet = re.sub(r'@[\\w\\d]+', '', tweet)\n",
        "    tokenizer = TweetTokenizer()\n",
        "    tweet_tokenized = tokenizer.tokenize(tweet)\n",
        "    stopwords_english = stopwords.words('english') \n",
        "    tweet_processsed=[word for word in tweet_tokenized \n",
        "    if word not  in stopwords_english and word not in       \n",
        "    string.punctuation]\n",
        "    stemmer = PorterStemmer() \n",
        "    tweet_after_stem=[]\n",
        "    for word in tweet_processsed:\n",
        "        word=stemmer.stem(word)\n",
        "        tweet_after_stem.append(word)\n",
        "    return tweet_after_stem"
      ],
      "execution_count": 20,
      "outputs": [
        {
          "output_type": "stream",
          "text": [
            "[nltk_data] Downloading package stopwords to /root/nltk_data...\n",
            "[nltk_data]   Package stopwords is already up-to-date!\n"
          ],
          "name": "stdout"
        }
      ]
    },
    {
      "cell_type": "code",
      "metadata": {
        "id": "7NkUpZn29etY",
        "colab_type": "code",
        "colab": {
          "base_uri": "https://localhost:8080/",
          "height": 34
        },
        "outputId": "558becce-c1f3-4c33-8934-c941128905af"
      },
      "source": [
        "print(text_process(example_postive_tweet))"
      ],
      "execution_count": 8,
      "outputs": [
        {
          "output_type": "stream",
          "text": [
            "['hey', 'jame', 'how', 'odd', ':/', 'pleas', 'call', 'contact', 'centr', '02392441234', 'abl', 'assist', ':)', 'mani', 'thank']\n"
          ],
          "name": "stdout"
        }
      ]
    },
    {
      "cell_type": "markdown",
      "metadata": {
        "id": "yuiZ5i3FLJLE",
        "colab_type": "text"
      },
      "source": [
        "# Word Encodings"
      ]
    },
    {
      "cell_type": "code",
      "metadata": {
        "id": "lIMznpa5T_rB",
        "colab_type": "code",
        "colab": {}
      },
      "source": [
        "pos_words=[]\n",
        "for tweet in train_pos:\n",
        "    tweet=text_process(tweet)\n",
        "    \n",
        "    for word in tweet:\n",
        "        \n",
        "        pos_words.append(word)\n",
        "freq_pos={}\n",
        "for word in pos_words:\n",
        "    if (word,1) not in freq_pos:\n",
        "        freq_pos[(word,1)]=1\n",
        "    else:\n",
        "        freq_pos[(word,1)]=freq_pos[(word,1)]+1\n",
        "neg_words=[]\n",
        "for tweet in train_neg:\n",
        "    tweet=text_process(tweet)\n",
        "    \n",
        "    for word in tweet:\n",
        "        \n",
        "        neg_words.append(word)\n",
        "freq_neg={}\n",
        "for word in neg_words:\n",
        "    if (word,0) not in freq_neg:\n",
        "        freq_neg[(word,0)]=1\n",
        "    else:\n",
        "        freq_neg[(word,0)]=freq_neg[(word,0)]+1\n",
        "freqs_dict = dict(freq_pos)\n",
        "freqs_dict.update(freq_neg)"
      ],
      "execution_count": 21,
      "outputs": []
    },
    {
      "cell_type": "code",
      "metadata": {
        "id": "q3tvXO2yVvPm",
        "colab_type": "code",
        "colab": {}
      },
      "source": [
        "def features_extraction(tweet, freqs_dict):\n",
        "    word_l = text_process(tweet)\n",
        "    x = np.zeros((1, 3))\n",
        "    x[0,0] = 1 \n",
        "    for word in word_l:\n",
        "        try:\n",
        "            x[0,1] += freqs_dict[(word,1)]\n",
        "        except:\n",
        "            x[0,1] += 0\n",
        "        try: \n",
        "            x[0,2] += freqs_dict[(word,0.0)]\n",
        "        except:\n",
        "            x[0,2] += 0\n",
        "    assert(x.shape == (1, 3))\n",
        "    return x"
      ],
      "execution_count": 22,
      "outputs": []
    },
    {
      "cell_type": "markdown",
      "metadata": {
        "id": "V0MFnMZzLQ3O",
        "colab_type": "text"
      },
      "source": [
        "# Logistic Regression"
      ]
    },
    {
      "cell_type": "code",
      "metadata": {
        "id": "au-EwhlSWBFl",
        "colab_type": "code",
        "colab": {}
      },
      "source": [
        "def sigmoid(x): \n",
        "    h = 1/(1+np.exp(-x))\n",
        "    return h\n",
        "\n",
        "def gradientDescent(x, y, theta, alpha, num_iters):\n",
        "    m = x.shape[0]\n",
        "    for i in range(0, num_iters):\n",
        "        z = np.dot(x,theta)\n",
        "        h = sigmoid(z)\n",
        "        J = -1/m*(np.dot(y.T,np.log(h))+np.dot((1-y).T,np.log(1-h)))\n",
        "        theta = theta-(alpha/m)*np.dot(x.T,h-y)\n",
        "    J = float(J)\n",
        "    return J, theta"
      ],
      "execution_count": 23,
      "outputs": []
    },
    {
      "cell_type": "code",
      "metadata": {
        "id": "lxPFe5mQWGnI",
        "colab_type": "code",
        "colab": {}
      },
      "source": [
        "X = np.zeros((len(train_x), 3))\n",
        "for i in range(len(train_x)):\n",
        "    X[i, :]= features_extraction(train_x[i], freqs_dict)\n",
        "Y = train_y\n",
        "J, theta = gradientDescent(X, Y, np.zeros((3, 1)), 1e-9, 1500)"
      ],
      "execution_count": 24,
      "outputs": []
    },
    {
      "cell_type": "markdown",
      "metadata": {
        "id": "GJlD57_JLVtY",
        "colab_type": "text"
      },
      "source": [
        "# Prediction and Model Accuracy"
      ]
    },
    {
      "cell_type": "code",
      "metadata": {
        "id": "ceb7H8fuMmL8",
        "colab_type": "code",
        "colab": {}
      },
      "source": [
        "def test_accuracy_with_rule_based_model(test_x, test_y):\n",
        "  y_hat1 = []\n",
        "  for each in test_x:\n",
        "    if each[1]>each[2]:\n",
        "      y_hat1.append(1)\n",
        "    else:\n",
        "      y_hat1.append(0)\n",
        "  m=len(y_hat1)\n",
        "  y_hat1=np.array(y_hat1)\n",
        "  y_hat1=y_hat1.reshape(m)\n",
        "  test_y=test_y.reshape(m)\n",
        "\n",
        "  c=y_hat1==test_y\n",
        "  j=0\n",
        "  j= len([x for x in c if x==True])\n",
        "  accuracy1 = j/m\n",
        "  return accuracy1\n",
        "accuracy1 = test_accuracy_with_rule_based_model(test_x, test_y)"
      ],
      "execution_count": 25,
      "outputs": []
    },
    {
      "cell_type": "code",
      "metadata": {
        "id": "QaK8jb6jM9Rc",
        "colab_type": "code",
        "colab": {
          "base_uri": "https://localhost:8080/",
          "height": 34
        },
        "outputId": "bba8523f-92a5-4c91-fbff-544c111182f2"
      },
      "source": [
        "print(accuracy1*100,'%')"
      ],
      "execution_count": 26,
      "outputs": [
        {
          "output_type": "stream",
          "text": [
            "49.95 %\n"
          ],
          "name": "stdout"
        }
      ]
    },
    {
      "cell_type": "code",
      "metadata": {
        "id": "fgBcRaIEWGy8",
        "colab_type": "code",
        "colab": {}
      },
      "source": [
        "def predict(tweet, freqs_dict, theta):\n",
        "    x = features_extraction(tweet,freqs_dict)\n",
        "    y_pred = sigmoid(np.dot(x,theta))\n",
        "    return y_pred\n",
        "def test_accuracy_with_logistic_regression(test_x, test_y, freqs_dict, theta):\n",
        "    y_hat = []\n",
        "    for tweet in test_x:\n",
        "        \n",
        "        y_pred = predict(tweet, freqs_dict, theta)\n",
        "        \n",
        "        if y_pred > 0.5:\n",
        "           \n",
        "            y_hat.append(1)\n",
        "        else:\n",
        "            \n",
        "            y_hat.append(0)\n",
        "    m=len(y_hat)\n",
        "    y_hat=np.array(y_hat)\n",
        "    y_hat=y_hat.reshape(m)\n",
        "    test_y=test_y.reshape(m)\n",
        "    \n",
        "    c=y_hat==test_y\n",
        "    j=0\n",
        "    j= len([x for x in c if x==True])\n",
        "    accuracy = j/m\n",
        "    return accuracy\n",
        "accuracy = test_accuracy_with_logistic_regression(test_x, test_y, freqs_dict, theta)"
      ],
      "execution_count": 27,
      "outputs": []
    },
    {
      "cell_type": "code",
      "metadata": {
        "id": "MWzPQy9lWTBm",
        "colab_type": "code",
        "colab": {
          "base_uri": "https://localhost:8080/",
          "height": 34
        },
        "outputId": "27ba9775-ba5b-44c6-bf78-352d1ef51598"
      },
      "source": [
        "print(accuracy*100,'%')"
      ],
      "execution_count": 28,
      "outputs": [
        {
          "output_type": "stream",
          "text": [
            "97.8 %\n"
          ],
          "name": "stdout"
        }
      ]
    },
    {
      "cell_type": "code",
      "metadata": {
        "id": "J8OSBOCpWZtR",
        "colab_type": "code",
        "colab": {
          "base_uri": "https://localhost:8080/",
          "height": 34
        },
        "outputId": "284f532e-753b-4bde-eb16-ec946dc70276"
      },
      "source": [
        "def test_your_own_tweet(tweet, freqs_dict, theta):\n",
        "  y_pred = predict(tweet, freqs_dict, theta)\n",
        "\n",
        "  if y_pred > 0.5:\n",
        "      \n",
        "      print(\"positve\")\n",
        "  else:\n",
        "      \n",
        "      print(\"negative\")\n",
        "tweet = \"I'm happy, not sad\"\n",
        "test_your_own_tweet(tweet, freqs_dict, theta)"
      ],
      "execution_count": 29,
      "outputs": [
        {
          "output_type": "stream",
          "text": [
            "negative\n"
          ],
          "name": "stdout"
        }
      ]
    }
  ]
}