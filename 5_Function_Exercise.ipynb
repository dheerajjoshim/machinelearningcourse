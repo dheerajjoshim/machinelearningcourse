{
 "cells": [
  {
   "cell_type": "markdown",
   "metadata": {},
   "source": [
    "## Functions:\n",
    "\n",
    "###\n",
    "###  def functionname(arg1, arg2, ...):\n",
    "###       statement1\n",
    "###       statement2\n",
    "###       ...\n",
    "###       return (...) # return is optional\n",
    "###"
   ]
  },
  {
   "cell_type": "markdown",
   "metadata": {},
   "source": [
    "## Exercise\n",
    "\n",
    "### # Find the \"Fibonacci series\" for the first 8 numbers after 0 & 1\n",
    "### # i.e 0,1, ?, ?, ?, ?, ?, ?, ?, ?"
   ]
  }
 ],
 "metadata": {
  "kernelspec": {
   "display_name": "Python 3",
   "language": "python",
   "name": "python3"
  },
  "language_info": {
   "codemirror_mode": {
    "name": "ipython",
    "version": 3
   },
   "file_extension": ".py",
   "mimetype": "text/x-python",
   "name": "python",
   "nbconvert_exporter": "python",
   "pygments_lexer": "ipython3",
   "version": "3.7.6"
  }
 },
 "nbformat": 4,
 "nbformat_minor": 2
}
