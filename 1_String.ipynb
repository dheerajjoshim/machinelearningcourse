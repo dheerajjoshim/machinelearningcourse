{
 "cells": [
  {
   "cell_type": "markdown",
   "metadata": {},
   "source": [
    "# String\n",
    "\n",
    "### What is string in Python ?\n",
    "#### - Strings in Python are arrays of bytes representing unicode characters.\n",
    "#### - However, Python does not have a character data type, a single character is simply a string with a length of 1.\n",
    "#### - Square brackets can be used to access elements of the string."
   ]
  },
  {
   "cell_type": "code",
   "execution_count": 1,
   "metadata": {},
   "outputs": [
    {
     "name": "stdout",
     "output_type": "stream",
     "text": [
      "ML\n",
      "EDP\n",
      "Welcome to ML EDP\n"
     ]
    }
   ],
   "source": [
    "# example of a string\n",
    "\n",
    "string1 = 'ML'\n",
    "string2 = 'EDP'\n",
    "print(string1)\n",
    "print(string2)\n",
    "print(\"Welcome\" + \" \" + \"to\" + \" \" + string1 + \" \" + string2)"
   ]
  },
  {
   "cell_type": "markdown",
   "metadata": {},
   "source": [
    "### Membership:\n",
    "#### # in, not in"
   ]
  },
  {
   "cell_type": "code",
   "execution_count": 2,
   "metadata": {},
   "outputs": [
    {
     "data": {
      "text/plain": [
       "True"
      ]
     },
     "execution_count": 2,
     "metadata": {},
     "output_type": "execute_result"
    }
   ],
   "source": [
    "string = \"abcde\"\n",
    "'ab' in string"
   ]
  },
  {
   "cell_type": "code",
   "execution_count": 3,
   "metadata": {},
   "outputs": [
    {
     "data": {
      "text/plain": [
       "False"
      ]
     },
     "execution_count": 3,
     "metadata": {},
     "output_type": "execute_result"
    }
   ],
   "source": [
    "string = 'abcde'\n",
    "'ed' in string"
   ]
  },
  {
   "cell_type": "code",
   "execution_count": 4,
   "metadata": {},
   "outputs": [
    {
     "data": {
      "text/plain": [
       "True"
      ]
     },
     "execution_count": 4,
     "metadata": {},
     "output_type": "execute_result"
    }
   ],
   "source": [
    "'fe' not in string"
   ]
  },
  {
   "cell_type": "markdown",
   "metadata": {},
   "source": [
    "### Slicing:\n",
    "### # string[range]"
   ]
  },
  {
   "cell_type": "code",
   "execution_count": 5,
   "metadata": {},
   "outputs": [
    {
     "name": "stdout",
     "output_type": "stream",
     "text": [
      "Nokia\n"
     ]
    }
   ],
   "source": [
    "string = \"Nokia\"\n",
    "string[0:3]\n",
    "print(string)       # Since the string operation was not assigned to a variable the string value was unchanged"
   ]
  },
  {
   "cell_type": "code",
   "execution_count": 6,
   "metadata": {},
   "outputs": [
    {
     "name": "stdout",
     "output_type": "stream",
     "text": [
      "Nok\n",
      "Nokia\n",
      "String Length:  5\n"
     ]
    }
   ],
   "source": [
    "sub_str = string[0:3]\n",
    "print(sub_str)\n",
    "sub_str = string[0:50]\n",
    "print(sub_str)\n",
    "print(\"String Length: \", len(string))"
   ]
  },
  {
   "cell_type": "markdown",
   "metadata": {},
   "source": [
    "### string length\n",
    "### # len(string_name)"
   ]
  },
  {
   "cell_type": "code",
   "execution_count": 7,
   "metadata": {},
   "outputs": [
    {
     "name": "stdout",
     "output_type": "stream",
     "text": [
      "11\n"
     ]
    }
   ],
   "source": [
    "string = \"Hello World\"\n",
    "print(len(string))"
   ]
  },
  {
   "cell_type": "markdown",
   "metadata": {},
   "source": [
    "### indexing\n",
    "### # string_name(index(sub_string_name))"
   ]
  },
  {
   "cell_type": "code",
   "execution_count": 8,
   "metadata": {},
   "outputs": [
    {
     "name": "stdout",
     "output_type": "stream",
     "text": [
      "1\n",
      "5\n"
     ]
    }
   ],
   "source": [
    "a = \"Hello World\"\n",
    "print(a.index('e'))\n",
    "print(a.index(' Wo'))"
   ]
  },
  {
   "cell_type": "code",
   "execution_count": 9,
   "metadata": {},
   "outputs": [
    {
     "ename": "ValueError",
     "evalue": "substring not found",
     "output_type": "error",
     "traceback": [
      "\u001b[1;31m---------------------------------------------------------------------------\u001b[0m",
      "\u001b[1;31mValueError\u001b[0m                                Traceback (most recent call last)",
      "\u001b[1;32m<ipython-input-9-40157b7a65cd>\u001b[0m in \u001b[0;36m<module>\u001b[1;34m\u001b[0m\n\u001b[0;32m      1\u001b[0m \u001b[1;31m# if the sub-string does not exist then, it will result in an error.\u001b[0m\u001b[1;33m\u001b[0m\u001b[1;33m\u001b[0m\u001b[1;33m\u001b[0m\u001b[0m\n\u001b[0;32m      2\u001b[0m \u001b[1;33m\u001b[0m\u001b[0m\n\u001b[1;32m----> 3\u001b[1;33m \u001b[0mprint\u001b[0m\u001b[1;33m(\u001b[0m\u001b[0ma\u001b[0m\u001b[1;33m.\u001b[0m\u001b[0mindex\u001b[0m\u001b[1;33m(\u001b[0m\u001b[1;34m'wo'\u001b[0m\u001b[1;33m)\u001b[0m\u001b[1;33m)\u001b[0m    \u001b[1;31m# This sub-string 'wo' does not exist in the string \"Hello World\"\u001b[0m\u001b[1;33m\u001b[0m\u001b[1;33m\u001b[0m\u001b[0m\n\u001b[0m",
      "\u001b[1;31mValueError\u001b[0m: substring not found"
     ]
    }
   ],
   "source": [
    "# if the sub-string does not exist then, it will result in an error.\n",
    "\n",
    "print(a.index('wo'))    # This sub-string 'wo' does not exist in the string \"Hello World\""
   ]
  },
  {
   "cell_type": "markdown",
   "metadata": {},
   "source": [
    "### Negative indexing\n",
    "### # String access from negative index, i.e from the last\n",
    "### # Here the last character of a string is -1 index"
   ]
  },
  {
   "cell_type": "code",
   "execution_count": 12,
   "metadata": {},
   "outputs": [
    {
     "name": "stdout",
     "output_type": "stream",
     "text": [
      "1 :  rl\n",
      "2 :  Hello Worl\n",
      "3 :  lo Worl\n",
      "4 :  lo World\n",
      "5 :  l\n",
      "6 :  \n",
      "7 :  \n",
      "8 :  \n",
      "9 :  Hello Worl\n",
      "10 :  Hello World\n"
     ]
    }
   ],
   "source": [
    "a = \"Hello World\"\n",
    "print(\"1 : \", a[-3:-1]) # Start from index -3 and End before -1\n",
    "print(\"2 : \", a[:-1])   # Start from index 0 and End before -1\n",
    "print(\"3 : \", a[3:-1])\n",
    "print(\"4 : \", a[3:14])\n",
    "print(\"5 : \", a[9:-1])\n",
    "print(\"6 : \", a[-1:1])  # not possible \n",
    "print(\"7 : \", a[14:-1]) # not possible\n",
    "print(\"8 : \", a[14:3])  # not possible\n",
    "print(\"9 : \", a[0:10])\n",
    "print(\"10 : \", a[0:11])"
   ]
  },
  {
   "cell_type": "markdown",
   "metadata": {},
   "source": [
    "### String Reverse"
   ]
  },
  {
   "cell_type": "code",
   "execution_count": 13,
   "metadata": {},
   "outputs": [
    {
     "name": "stdout",
     "output_type": "stream",
     "text": [
      "dlroW olleH\n"
     ]
    }
   ],
   "source": [
    "a=\"Hello World\"\n",
    "print(a[::-1])"
   ]
  },
  {
   "cell_type": "markdown",
   "metadata": {},
   "source": [
    "### Repetition \n",
    "### # string * x"
   ]
  },
  {
   "cell_type": "code",
   "execution_count": 14,
   "metadata": {},
   "outputs": [
    {
     "name": "stdout",
     "output_type": "stream",
     "text": [
      "Nokia\n",
      "NokiaNokiaNokiaNokiaNokia\n",
      "Nokia Nokia Nokia Nokia Nokia \n"
     ]
    }
   ],
   "source": [
    "string1 = \"Nokia\"\n",
    "string1 * 5\n",
    "print(string1)\n",
    "print(string1 * 5)\n",
    "print((string1 + \" \") * 5)"
   ]
  },
  {
   "cell_type": "markdown",
   "metadata": {},
   "source": [
    "### Concatenation\n",
    "### # string1 + string2"
   ]
  },
  {
   "cell_type": "code",
   "execution_count": 15,
   "metadata": {},
   "outputs": [
    {
     "name": "stdout",
     "output_type": "stream",
     "text": [
      "NokiaBangalore\n",
      "Nokia Bangalore\n"
     ]
    }
   ],
   "source": [
    "string1 = \"Nokia\"\n",
    "string2 = \"Bangalore\"\n",
    "print(string1 + string2)\n",
    "print(string1 + \" \" + string2)"
   ]
  },
  {
   "cell_type": "markdown",
   "metadata": {},
   "source": [
    "### Updating string\n",
    "### # Strings are mutable, so it can be updated\n",
    "### # string[range] + 'x'"
   ]
  },
  {
   "cell_type": "code",
   "execution_count": 16,
   "metadata": {},
   "outputs": [
    {
     "name": "stdout",
     "output_type": "stream",
     "text": [
      "Nok Bangalore\n",
      "NokiaBan\n"
     ]
    }
   ],
   "source": [
    "string1 = \"Nokia\"\n",
    "string2 = string1[0:3] + \" \" + 'Bangalore'\n",
    "print(string2)\n",
    "x = 'Ban'\n",
    "print(string1 + x)"
   ]
  },
  {
   "cell_type": "markdown",
   "metadata": {},
   "source": [
    "### Find a sub-string in a string\n",
    "### # string_name.find(sub-string_name)"
   ]
  },
  {
   "cell_type": "code",
   "execution_count": 17,
   "metadata": {},
   "outputs": [
    {
     "name": "stdout",
     "output_type": "stream",
     "text": [
      "4\n",
      "16\n",
      "-1\n"
     ]
    }
   ],
   "source": [
    "str = 'Nokia Bangalore ML EDP'\n",
    "print(str.find('a'))\n",
    "print(str.find('ML E'))\n",
    "print(str.find('x'))    # If a sub-string is not found then the result will return -1"
   ]
  },
  {
   "cell_type": "code",
   "execution_count": 18,
   "metadata": {},
   "outputs": [
    {
     "name": "stdout",
     "output_type": "stream",
     "text": [
      "Found :  a in String:  Nokia Bangalore ML EDP in  Position :  4\n"
     ]
    }
   ],
   "source": [
    "str = 'Nokia Bangalore ML EDP'\n",
    "x = 'a'\n",
    "strfind = str.find(x)\n",
    "\n",
    "if (strfind > 0):\n",
    "    print(\"Found : \", x, \"in String: \", str, \"in \", \"Position : \", strfind)\n",
    "else:\n",
    "    print(\"Not Found : \", x, \"in String: \", str)"
   ]
  },
  {
   "cell_type": "markdown",
   "metadata": {},
   "source": [
    "### Replace a sub-string in a string\n",
    "### # string_name.replace(sub-string1, sub-string2)"
   ]
  },
  {
   "cell_type": "code",
   "execution_count": 19,
   "metadata": {},
   "outputs": [
    {
     "name": "stdout",
     "output_type": "stream",
     "text": [
      "Nokia Bangalore Testing EDP\n",
      "Nokia Bangalore ML EDP\n"
     ]
    }
   ],
   "source": [
    "str = 'Nokia Bangalore Testing EDP'\n",
    "str_replaced = str.replace('Testing','ML')\n",
    "print(str)\n",
    "print(str_replaced)"
   ]
  },
  {
   "cell_type": "markdown",
   "metadata": {},
   "source": [
    "## Split\n",
    "### Split a string w.r.t to a sub-string\n",
    "### # string_name.split(sub-string_name)"
   ]
  },
  {
   "cell_type": "code",
   "execution_count": 20,
   "metadata": {},
   "outputs": [
    {
     "name": "stdout",
     "output_type": "stream",
     "text": [
      "N,o,k,i,a\n",
      "['N', 'o', 'k', 'i', 'a']\n",
      "<class 'list'>\n",
      " \n",
      "blue\n",
      "red\n",
      "green\n",
      "<class 'str'>\n"
     ]
    }
   ],
   "source": [
    "str = 'N,o,k,i,a'\n",
    "str_splitted = str.split(',')\n",
    "print(str)\n",
    "print(str_splitted)\n",
    "print(type(str_splitted))   \n",
    "print(\" \")\n",
    "\n",
    "x = 'blue,red,green'\n",
    "a,b,c = x.split(\",\")\n",
    "print(a)\n",
    "print(b)\n",
    "print(c)\n",
    "print(type(a))"
   ]
  },
  {
   "cell_type": "markdown",
   "metadata": {},
   "source": [
    "## Join\n",
    "### Joining of strings via a sub-string seperator\n",
    "### # sub-string.join(list_of_strings)"
   ]
  },
  {
   "cell_type": "code",
   "execution_count": 21,
   "metadata": {},
   "outputs": [
    {
     "name": "stdout",
     "output_type": "stream",
     "text": [
      "['blue', 'red', 'green']\n",
      "<class 'list'>\n",
      " \n",
      "blue-red-green\n",
      "<class 'str'>\n"
     ]
    }
   ],
   "source": [
    "a = 'blue,red,green'\n",
    "a = a.split(\",\")          # a is converted to a list of strings. \n",
    "print(a)\n",
    "print(type(a))\n",
    "\n",
    "print(\" \")\n",
    "a = \"-\".join(a)\n",
    "print(a)\n",
    "print(type(a))"
   ]
  },
  {
   "cell_type": "markdown",
   "metadata": {},
   "source": [
    "## Count\n",
    "### Count: count the occurance of a sub-string within a string\n",
    "### # string_name.count(sub-string_name, starting_position, ending_position)"
   ]
  },
  {
   "cell_type": "code",
   "execution_count": 22,
   "metadata": {},
   "outputs": [
    {
     "name": "stdout",
     "output_type": "stream",
     "text": [
      "3\n",
      "2\n",
      "1\n",
      "1\n",
      "2\n",
      "0\n"
     ]
    }
   ],
   "source": [
    "str = 'Nokia Bangalore ML EDP'\n",
    "print(str.count('a',0,15))   # Here 0 is the beginning of the search, 15 is the end of the search in the string  \n",
    "print(str.count('a',0,9))\n",
    "print(str.count('a',9,15))\n",
    "print(str.count('a',0,7))     \n",
    "print(str.count('a',0,8))\n",
    "print(str.count('z',0,15))  # returns 0, if the sub-string is not found in the string"
   ]
  },
  {
   "cell_type": "markdown",
   "metadata": {},
   "source": [
    "### Upper: convert a string to upper-case characters\n",
    "### # string_name.upper()"
   ]
  },
  {
   "cell_type": "code",
   "execution_count": 23,
   "metadata": {},
   "outputs": [
    {
     "name": "stdout",
     "output_type": "stream",
     "text": [
      "NOKIA 123\n"
     ]
    }
   ],
   "source": [
    "str = 'Nokia 123'\n",
    "print(str.upper())"
   ]
  },
  {
   "cell_type": "markdown",
   "metadata": {},
   "source": [
    "### Lower: convert the string to lower-case characters\n",
    "### # string_name.lower()"
   ]
  },
  {
   "cell_type": "code",
   "execution_count": 24,
   "metadata": {},
   "outputs": [
    {
     "name": "stdout",
     "output_type": "stream",
     "text": [
      "nokia 123\n"
     ]
    }
   ],
   "source": [
    "str = 'Nokia 123'\n",
    "print(str.lower())"
   ]
  },
  {
   "cell_type": "markdown",
   "metadata": {},
   "source": [
    "### Max: returns the character with the max ascii value\n",
    "### # max(string_name)"
   ]
  },
  {
   "cell_type": "code",
   "execution_count": 25,
   "metadata": {},
   "outputs": [
    {
     "data": {
      "text/plain": [
       "'u'"
      ]
     },
     "execution_count": 25,
     "metadata": {},
     "output_type": "execute_result"
    }
   ],
   "source": [
    "str = 'Nokia Edu 123'\n",
    "max(str)"
   ]
  },
  {
   "cell_type": "markdown",
   "metadata": {},
   "source": [
    "### Min: returns the character with the min ascii value\n",
    "### # min(string_name)"
   ]
  },
  {
   "cell_type": "code",
   "execution_count": 26,
   "metadata": {},
   "outputs": [
    {
     "name": "stdout",
     "output_type": "stream",
     "text": [
      "1\n",
      "N\n"
     ]
    }
   ],
   "source": [
    "str = 'NokiaEdu123'\n",
    "print(min(mystr))\n",
    "str = 'Nokia'\n",
    "print(min(mystr))"
   ]
  },
  {
   "cell_type": "markdown",
   "metadata": {},
   "source": [
    "### isalpha, isnumeric, isalnum usage:"
   ]
  },
  {
   "cell_type": "code",
   "execution_count": 27,
   "metadata": {},
   "outputs": [
    {
     "name": "stdout",
     "output_type": "stream",
     "text": [
      "False\n",
      "True\n",
      "False\n",
      " \n",
      "False\n",
      "False\n",
      "True\n",
      " \n",
      "True\n",
      "False\n"
     ]
    }
   ],
   "source": [
    "str1 = 'NokiaEdu123'\n",
    "str2 = 'Nokia'\n",
    "str3 = '123'\n",
    "print(str1.isalpha())\n",
    "print(str2.isalpha())\n",
    "print(str3.isalpha())\n",
    "print(\" \")\n",
    "\n",
    "print(str1.isnumeric())\n",
    "print(str2.isnumeric())\n",
    "print(str3.isnumeric())\n",
    "print(\" \")\n",
    "\n",
    "print(str1.isalnum())\n",
    "str4 = 'NokiaEdu123#$%'\n",
    "print(str4.isalnum())"
   ]
  },
  {
   "cell_type": "markdown",
   "metadata": {},
   "source": [
    "### Type casting\n",
    "\n",
    "### # Non-string values can be converted into a string representation by using the str()"
   ]
  },
  {
   "cell_type": "code",
   "execution_count": 29,
   "metadata": {},
   "outputs": [
    {
     "name": "stdout",
     "output_type": "stream",
     "text": [
      "3.39\n",
      "The value of x is : 3.39\n"
     ]
    }
   ],
   "source": [
    "del str\n",
    "x = 3.39\n",
    "str(x)\n",
    "print(str(x))\n",
    "\n",
    "s = \"The value of x is : \" + str(x)\n",
    "print (s)       "
   ]
  },
  {
   "cell_type": "markdown",
   "metadata": {},
   "source": [
    "### String Built-in functions:"
   ]
  },
  {
   "cell_type": "code",
   "execution_count": 30,
   "metadata": {},
   "outputs": [
    {
     "name": "stdout",
     "output_type": "stream",
     "text": [
      "['__add__', '__class__', '__contains__', '__delattr__', '__dir__', '__doc__', '__eq__', '__format__', '__ge__', '__getattribute__', '__getitem__', '__getnewargs__', '__gt__', '__hash__', '__init__', '__init_subclass__', '__iter__', '__le__', '__len__', '__lt__', '__mod__', '__mul__', '__ne__', '__new__', '__reduce__', '__reduce_ex__', '__repr__', '__rmod__', '__rmul__', '__setattr__', '__sizeof__', '__str__', '__subclasshook__', 'capitalize', 'casefold', 'center', 'count', 'encode', 'endswith', 'expandtabs', 'find', 'format', 'format_map', 'index', 'isalnum', 'isalpha', 'isascii', 'isdecimal', 'isdigit', 'isidentifier', 'islower', 'isnumeric', 'isprintable', 'isspace', 'istitle', 'isupper', 'join', 'ljust', 'lower', 'lstrip', 'maketrans', 'partition', 'replace', 'rfind', 'rindex', 'rjust', 'rpartition', 'rsplit', 'rstrip', 'split', 'splitlines', 'startswith', 'strip', 'swapcase', 'title', 'translate', 'upper', 'zfill']\n"
     ]
    }
   ],
   "source": [
    "# To get all the built-in string fuctions in Python\n",
    "\n",
    "string1 =\"abcde\"\n",
    "print(dir(string1))"
   ]
  },
  {
   "cell_type": "code",
   "execution_count": null,
   "metadata": {},
   "outputs": [],
   "source": []
  }
 ],
 "metadata": {
  "kernelspec": {
   "display_name": "Python 3",
   "language": "python",
   "name": "python3"
  },
  "language_info": {
   "codemirror_mode": {
    "name": "ipython",
    "version": 3
   },
   "file_extension": ".py",
   "mimetype": "text/x-python",
   "name": "python",
   "nbconvert_exporter": "python",
   "pygments_lexer": "ipython3",
   "version": "3.7.6"
  }
 },
 "nbformat": 4,
 "nbformat_minor": 2
}
